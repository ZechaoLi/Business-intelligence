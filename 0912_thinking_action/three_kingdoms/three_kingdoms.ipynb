{
 "cells": [
  {
   "cell_type": "code",
   "execution_count": 1,
   "metadata": {},
   "outputs": [],
   "source": [
    "import jieba\n",
    "import os\n",
    "from utils import files_processing"
   ]
  },
  {
   "cell_type": "code",
   "execution_count": 2,
   "metadata": {},
   "outputs": [],
   "source": [
    "# source file path\n",
    "source_folder = \"./three_kingdoms/source/\"\n",
    "segment_folder = \"./three_kingdoms/segment/\""
   ]
  },
  {
   "cell_type": "code",
   "execution_count": 3,
   "metadata": {},
   "outputs": [],
   "source": [
    "# segmentation function\n",
    "def segment_lines(file_list, segment_out_dic, stopwords = []):\n",
    "    for i, file in enumerate(file_list):\n",
    "        segment_out_name = os.path.join(segment_out_dic, 'segment_{}.txt'.format(i))\n",
    "        with open(file, 'rb') as f:\n",
    "            document = f.read()\n",
    "            document_cut = jieba.cut(document)\n",
    "            sentenct_segment = []\n",
    "            for word in document_cut:\n",
    "                if word not in stopwords:\n",
    "                    sentenct_segment.append(word)\n",
    "            result = ' '.join(sentenct_segment)\n",
    "            result = result.encode('utf-8')\n",
    "            with open(segment_out_name, 'wb') as f2:\n",
    "                f2.write(result)"
   ]
  },
  {
   "cell_type": "code",
   "execution_count": 4,
   "metadata": {},
   "outputs": [],
   "source": [
    "# read stop_words \n",
    "def stopwordslist():\n",
    "    stopwords = [line.strip() for line in open(\"./stop_words\",encoding='UTF-8').readlines()]\n",
    "    return stopwords\n",
    "stop_words = stopwordslist()"
   ]
  },
  {
   "cell_type": "code",
   "execution_count": 5,
   "metadata": {},
   "outputs": [
    {
     "name": "stderr",
     "output_type": "stream",
     "text": [
      "Building prefix dict from the default dictionary ...\n",
      "Loading model from cache /var/folders/q1/dxcyytx11wl8ytnfykpgv_ww0000gn/T/jieba.cache\n",
      "Loading model cost 1.936 seconds.\n",
      "Prefix dict has been built succesfully.\n"
     ]
    }
   ],
   "source": [
    "file_list = files_processing.get_files_list(source_folder, postfix='*.txt')\n",
    "segment_lines(file_list, segment_folder, stop_words)"
   ]
  },
  {
   "cell_type": "code",
   "execution_count": 6,
   "metadata": {},
   "outputs": [],
   "source": [
    "# from gensim import word2vec\n",
    "from gensim.models import word2vec\n",
    "import multiprocessing"
   ]
  },
  {
   "cell_type": "code",
   "execution_count": 7,
   "metadata": {},
   "outputs": [],
   "source": [
    "sentences = word2vec.PathLineSentences(segment_folder)"
   ]
  },
  {
   "cell_type": "code",
   "execution_count": 8,
   "metadata": {},
   "outputs": [],
   "source": [
    "model = word2vec.Word2Vec(sentences, size=128, window=5, min_count=5, workers = multiprocessing.cpu_count())"
   ]
  },
  {
   "cell_type": "code",
   "execution_count": 9,
   "metadata": {},
   "outputs": [
    {
     "name": "stdout",
     "output_type": "stream",
     "text": [
      "[('袁绍', 0.9999023675918579), ('孙权', 0.9998974204063416), ('周瑜', 0.9998963475227356), ('司马懿', 0.9998953342437744), ('袁术', 0.9998926520347595), ('报', 0.9998820424079895), ('回见', 0.9998805522918701), ('钟会', 0.9998804330825806), ('先', 0.9998775720596313), ('魏', 0.9998761415481567)]\n"
     ]
    }
   ],
   "source": [
    "print(model.wv.most_similar(\"曹操\"))"
   ]
  },
  {
   "cell_type": "code",
   "execution_count": 10,
   "metadata": {},
   "outputs": [
    {
     "name": "stdout",
     "output_type": "stream",
     "text": [
      "[('敢', 0.999821662902832), ('何不', 0.9998186230659485), ('奈何', 0.9998183846473694), ('布', 0.999814510345459), ('权', 0.9998075366020203), ('大事', 0.9998068809509277), ('真', 0.9998031854629517), ('否', 0.9998012781143188), ('允', 0.9997977614402771), ('大笑', 0.9997972846031189)]\n"
     ]
    }
   ],
   "source": [
    "print(model.wv.most_similar(positive=[\"曹操\", \"刘备\"], negative=[\"孙权\"]))"
   ]
  },
  {
   "cell_type": "code",
   "execution_count": null,
   "metadata": {},
   "outputs": [],
   "source": []
  }
 ],
 "metadata": {
  "kernelspec": {
   "display_name": "Python 3",
   "language": "python",
   "name": "python3"
  },
  "language_info": {
   "codemirror_mode": {
    "name": "ipython",
    "version": 3
   },
   "file_extension": ".py",
   "mimetype": "text/x-python",
   "name": "python",
   "nbconvert_exporter": "python",
   "pygments_lexer": "ipython3",
   "version": "3.6.4"
  }
 },
 "nbformat": 4,
 "nbformat_minor": 2
}
