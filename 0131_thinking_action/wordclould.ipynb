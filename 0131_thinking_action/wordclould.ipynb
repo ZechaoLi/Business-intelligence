{
 "cells": [
  {
   "cell_type": "code",
   "execution_count": 42,
   "metadata": {},
   "outputs": [],
   "source": [
    "import requests\n",
    "from bs4 import BeautifulSoup\n",
    "import jieba.posseg as pseg\n",
    "import jieba\n",
    "from wordcloud import WordCloud\n",
    "import re"
   ]
  },
  {
   "cell_type": "code",
   "execution_count": 51,
   "metadata": {},
   "outputs": [],
   "source": [
    "# 新闻网址\n",
    "url = 'http://www.china.com.cn/opinion/2021-01/31/content_77173284.html'"
   ]
  },
  {
   "cell_type": "code",
   "execution_count": 52,
   "metadata": {},
   "outputs": [],
   "source": [
    "# 赋值定义html并获取内容\n",
    "html = requests.get(url, timeout = 10)\n",
    "content = html.content\n"
   ]
  },
  {
   "cell_type": "code",
   "execution_count": 53,
   "metadata": {},
   "outputs": [],
   "source": [
    "# 通过content创建beautifulsoup对象\n",
    "soup = BeautifulSoup(content, 'html.parser', from_encoding='utf-8')\n",
    "text = soup.get_text()\n"
   ]
  },
  {
   "cell_type": "code",
   "execution_count": 54,
   "metadata": {},
   "outputs": [],
   "source": [
    "words = pseg.lcut(text)"
   ]
  },
  {
   "cell_type": "code",
   "execution_count": 55,
   "metadata": {},
   "outputs": [
    {
     "name": "stdout",
     "output_type": "stream",
     "text": [
      "{'特朗普', '施瓦布', '法律顾问', '达沃斯', '蓬佩奥', '大肆宣扬', '许可证', '封锁', '岳成', '小镇', '戚易斌'}\n"
     ]
    }
   ],
   "source": [
    "news_person = {word for word, flag in words if flag == 'nr'}\n",
    "print(news_person)"
   ]
  },
  {
   "cell_type": "code",
   "execution_count": 56,
   "metadata": {},
   "outputs": [
    {
     "name": "stdout",
     "output_type": "stream",
     "text": [
      "{'欧美', '中国', '上台', '美国', '巴黎', '中欧', '瑞士', '北京'}\n"
     ]
    }
   ],
   "source": [
    "news_place = {word for word, flag in words if flag == 'ns'}\n",
    "print(news_place)"
   ]
  },
  {
   "cell_type": "code",
   "execution_count": 57,
   "metadata": {},
   "outputs": [
    {
     "name": "stdout",
     "output_type": "stream",
     "text": [
      "中国网评】在人类命运共同体理念的指引下重建全球信任_观点中国_中国网中国网首页观点中国当前位置： 观点中国中国网评中国网评】在人类命运共同体理念的指引下重建全球信任来源：中国网作者：乐水中国网评论员  乐水1月29日，一年一度的世界经济论坛在瑞士小镇达沃斯闭幕。与以往不同的是，本次论坛以线上的方式举行，凸显了新冠疫情在过去一年中对全世界造成的巨大冲击。今年“达沃斯议程”对话会的主题为“把握关键之年，重建各方信任”。论坛创始人兼执行主席施瓦布表示：“面对新冠疫情的影响，世界各国愈发需要调整优先事务，更加亟需改革社会经济系统。为了制定大胆创新的解决方案，控制新冠疫情和推动强劲复苏，我们必须重建各方信任，增强国际合作。”疫情肆虐的年注定将在人类历史上留下浓重一笔。目前，全球累计确诊新冠病例已超一亿例，死亡人数超过万，欧美许多国家仍然处在严格的封锁之中。世界银行预测年全球将萎缩5%以上。这场席卷全球的疫情既是对人类应对突发公共卫生危机能力的挑战，也是对世界各国能否增信释疑、团结合作的考验。但是，我们却不无遗憾地看到，疫情成为了一面镜子，折射出各国在应对人类共同危机时的众生相。年年初，中国在第一时间向世界通报了疫情信息，并且在成功控制住本国疫情之后向国际社会主动伸出援手，提供抗疫物资，分享抗疫经验，积极推动国际抗疫合作。据统计，中国已向多个国家和10个国际组织提供了抗疫援助，向国际社会提供了多亿只口罩、亿件防护服、亿份检测试剂盒。但与此同时，个别国家政客却为了推卸自身防控疫情不力的责任，对中国的善举进行曲解和诋毁。美国前总统特朗普诬称新冠病毒为“中国病毒”；前国务卿蓬佩奥大肆宣扬关于新冠病毒起源的阴谋论；美国部分议员甚至提出要向中国“追责”。上述不负责任的言行既无助于其本国的疫情防控，也严重影响了国际间的抗疫合作，对于其国内经济的复苏也构成了致命打击。特朗普政府在上任之初就祭起单边主义的大旗，接连向世界各国挑起贸易战。去年，特朗普政府更是不断对中国企业发起强硬制裁。而最新数据显示，年美国的萎缩，创下二战以来的最大跌幅。事实证明，“甩锅”、卸责于事无补，单边主义只会开历史的倒车，只有加强多边合作和重塑国际信任才是人类未来的方向。习近平主席在“达沃斯议程”对话会发表特别致辞时，重申了人类命运共同体理念。他强调“要建设开放型世界经济，坚定维护多边贸易体制，不搞歧视性、排他性标准、规则、体系，不搞割裂贸易、投资、技术的高墙壁垒”。在单边主义和反全球化浪潮甚嚣尘上的年，中国继续坚定不移地扩大对外开放，持之以恒地深化改革，取得了签署协议和完成中欧投资协定谈判两项划时代的成就，进一步推动中国经济与世界经济紧密衔接，让中国与世界的命运休戚与共。年是崭新的一年。随着拜登政府的上台，美国也终于出现了向多边主义回归的迹象。拜登明确表示，美国将重返巴黎气候协定和世界卫生组织。近日，拜登还签署备忘录，禁止联邦政府使用“中国病毒”等带有歧视性的词语，这对于美国缓解排外情绪和族群隔阂无疑具有正面意义。在过去的四年里，尤其是新冠疫情肆虐的这一年中，国际间的信任已被严重破坏。新年伊始，世人又看到了重建全球信任的曙光。“大道不孤，天下一家。”希望在疫情过后，全世界能够更深切地认识到，人类已经成为了一个你中有我、我中有你的命运共同体，任何国家都不能独善其身。各国唯有秉持多边主义精神，守望相助、团结协作，才能更好地应对各种全球性风险挑战。（责任编辑：戚易斌 蔡晓娟中国互联网违法和不良信息举报中心中国互联网视听节目服务自律公约垃圾信息举报中心中国新闻网站联盟版权所有中国互联网新闻中心 电子邮件：电话：京证号 网络传播视听节目许可证号：关于我们法律顾问：北京岳成律师事务所刊登广告联系方式本站地图对外服务：访谈 直播 广告 展会 无线字体显示日期星期日星期一星期二星期三星期四星期五星期六年月日[\n"
     ]
    }
   ],
   "source": [
    "# 提取中文和相关标点\n",
    "text = re.sub('[^[\\u4e00-\\u9fa5。，！：、]{3,}', '', text)\n",
    "print(text)"
   ]
  },
  {
   "cell_type": "code",
   "execution_count": 58,
   "metadata": {},
   "outputs": [],
   "source": [
    "def remove_stop_words(f):\n",
    "    stop_words = []\n",
    "    for stop_word in stop_words:\n",
    "        f = f.replace(stop_word, '')\n",
    "    return f"
   ]
  },
  {
   "cell_type": "code",
   "execution_count": 59,
   "metadata": {},
   "outputs": [],
   "source": [
    "def create_word_cloud(f):\n",
    "    f = remove_stop_words(f)\n",
    "    seg_list= jieba.lcut(f)\n",
    "    cut_text = ''.join(seg_list)\n",
    "    wc = WordCloud(\n",
    "        max_words=100,\n",
    "        width=2000,\n",
    "        height=1200,\n",
    "        font_path = './msyh.ttf'\n",
    "    )\n",
    "    wordcloud = wc.generate(cut_text)\n",
    "    wordcloud.to_file(\"wordcloud.jpg\")\n"
   ]
  },
  {
   "cell_type": "code",
   "execution_count": 60,
   "metadata": {},
   "outputs": [],
   "source": [
    "create_word_cloud(text)"
   ]
  },
  {
   "cell_type": "code",
   "execution_count": 61,
   "metadata": {},
   "outputs": [
    {
     "name": "stdout",
     "output_type": "stream",
     "text": [
      "关键词：\n",
      "中国 0.029755182966479304\n",
      "疫情 0.01877019394035699\n",
      "世界 0.012466648411380505\n",
      "新冠 0.012146018111249591\n",
      "人类 0.011739471596626734\n",
      "美国 0.01108549696082236\n",
      "经济 0.01028681869845035\n",
      "全球 0.008842213255155915\n",
      "国际 0.008546948978415339\n",
      "命运 0.007298040247332961\n",
      "国家 0.006802624502437814\n",
      "信任 0.006495765355050408\n",
      "病毒 0.0064064451554519675\n",
      "抗疫 0.0062825617274802\n",
      "达沃斯 0.006179070699632531\n",
      "单边主义 0.006036750161957349\n",
      "投资 0.0059527252404157965\n",
      "互联网 0.005937969703804255\n",
      "推动 0.005803548853172696\n",
      "应对 0.005735354024578775\n",
      "摘要：\n",
      "0 0.04564713957284429 中国网评】在人类命运共同体理念的指引下重建全球信任_观点中国_中国网中国网首页观点中国当前位置： 观点中国中国网评中国网评】在人类命运共同体理念的指引下重建全球信任来源：中国网作者：乐水中国网评论员  乐水1月29日，一年一度的世界经济论坛在瑞士小镇达沃斯闭幕\n",
      "10 0.04424288851854789 年年初，中国在第一时间向世界通报了疫情信息，并且在成功控制住本国疫情之后向国际社会主动伸出援手，提供抗疫物资，分享抗疫经验，积极推动国际抗疫合作\n",
      "8 0.040512298267485626 这场席卷全球的疫情既是对人类应对突发公共卫生危机能力的挑战，也是对世界各国能否增信释疑、团结合作的考验\n"
     ]
    }
   ],
   "source": [
    "#-*- encoding:utf-8 -*-\n",
    "from textrank4zh import TextRank4Keyword, TextRank4Sentence\n",
    "import jieba\n",
    "\n",
    "\n",
    "# 输出关键词，设置文本小写，窗口为2\n",
    "tr4w = TextRank4Keyword()\n",
    "tr4w.analyze(text=text, lower=True, window=3)\n",
    "print('关键词：')\n",
    "for item in tr4w.get_keywords(20, word_min_len=2):\n",
    "    print(item.word, item.weight)\n",
    "\n",
    "\n",
    "# 输出重要的句子\n",
    "tr4s = TextRank4Sentence()\n",
    "tr4s.analyze(text=text, lower=True, source = 'all_filters')\n",
    "print('摘要：')\n",
    "# 重要性较高的三个句子\n",
    "for item in tr4s.get_key_sentences(num=3):\n",
    "    # index是语句在文本中位置，weight表示权重\n",
    "    print(item.index, item.weight, item.sentence)\n"
   ]
  },
  {
   "cell_type": "code",
   "execution_count": null,
   "metadata": {},
   "outputs": [],
   "source": []
  },
  {
   "cell_type": "code",
   "execution_count": null,
   "metadata": {},
   "outputs": [],
   "source": []
  }
 ],
 "metadata": {
  "kernelspec": {
   "display_name": "Python 3",
   "language": "python",
   "name": "python3"
  },
  "language_info": {
   "codemirror_mode": {
    "name": "ipython",
    "version": 3
   },
   "file_extension": ".py",
   "mimetype": "text/x-python",
   "name": "python",
   "nbconvert_exporter": "python",
   "pygments_lexer": "ipython3",
   "version": "3.7.6"
  }
 },
 "nbformat": 4,
 "nbformat_minor": 4
}
