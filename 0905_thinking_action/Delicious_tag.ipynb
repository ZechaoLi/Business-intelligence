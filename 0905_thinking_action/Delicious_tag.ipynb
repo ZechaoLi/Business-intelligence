{
 "cells": [
  {
   "cell_type": "markdown",
   "metadata": {},
   "source": [
    "# 针对Delicious数据集，对SimpleTagBased算法进行改进（使用NormTagBased、TagBased-TFIDF算法）"
   ]
  },
  {
   "cell_type": "code",
   "execution_count": 1,
   "metadata": {},
   "outputs": [],
   "source": [
    "import pandas as pd\n",
    "import math\n",
    "import random\n",
    "import operator\n",
    "from tqdm import tqdm"
   ]
  },
  {
   "cell_type": "code",
   "execution_count": 2,
   "metadata": {},
   "outputs": [
    {
     "data": {
      "text/html": [
       "<div>\n",
       "<style scoped>\n",
       "    .dataframe tbody tr th:only-of-type {\n",
       "        vertical-align: middle;\n",
       "    }\n",
       "\n",
       "    .dataframe tbody tr th {\n",
       "        vertical-align: top;\n",
       "    }\n",
       "\n",
       "    .dataframe thead th {\n",
       "        text-align: right;\n",
       "    }\n",
       "</style>\n",
       "<table border=\"1\" class=\"dataframe\">\n",
       "  <thead>\n",
       "    <tr style=\"text-align: right;\">\n",
       "      <th></th>\n",
       "      <th>userID</th>\n",
       "      <th>bookmarkID</th>\n",
       "      <th>tagID</th>\n",
       "      <th>timestamp</th>\n",
       "    </tr>\n",
       "  </thead>\n",
       "  <tbody>\n",
       "    <tr>\n",
       "      <th>0</th>\n",
       "      <td>8</td>\n",
       "      <td>1</td>\n",
       "      <td>1</td>\n",
       "      <td>1289255362000</td>\n",
       "    </tr>\n",
       "    <tr>\n",
       "      <th>1</th>\n",
       "      <td>8</td>\n",
       "      <td>2</td>\n",
       "      <td>1</td>\n",
       "      <td>1289255159000</td>\n",
       "    </tr>\n",
       "    <tr>\n",
       "      <th>2</th>\n",
       "      <td>8</td>\n",
       "      <td>7</td>\n",
       "      <td>1</td>\n",
       "      <td>1289238901000</td>\n",
       "    </tr>\n",
       "    <tr>\n",
       "      <th>3</th>\n",
       "      <td>8</td>\n",
       "      <td>7</td>\n",
       "      <td>6</td>\n",
       "      <td>1289238901000</td>\n",
       "    </tr>\n",
       "    <tr>\n",
       "      <th>4</th>\n",
       "      <td>8</td>\n",
       "      <td>7</td>\n",
       "      <td>7</td>\n",
       "      <td>1289238901000</td>\n",
       "    </tr>\n",
       "  </tbody>\n",
       "</table>\n",
       "</div>"
      ],
      "text/plain": [
       "   userID  bookmarkID  tagID      timestamp\n",
       "0       8           1      1  1289255362000\n",
       "1       8           2      1  1289255159000\n",
       "2       8           7      1  1289238901000\n",
       "3       8           7      6  1289238901000\n",
       "4       8           7      7  1289238901000"
      ]
     },
     "execution_count": 2,
     "metadata": {},
     "output_type": "execute_result"
    }
   ],
   "source": [
    "data_file = \"user_taggedbookmarks-timestamps.dat\"\n",
    "data = pd.read_csv(data_file, sep = '\\t')\n",
    "data.head()"
   ]
  },
  {
   "cell_type": "code",
   "execution_count": 3,
   "metadata": {},
   "outputs": [],
   "source": [
    "# type: dict，save tag for user to item，exp: {userid: {item1:[tag1, tag2], ...}}\n",
    "records = {}\n",
    "# define train, test dataset\n",
    "train_data = {}\n",
    "test_data = {}\n",
    "# user tag, item tag\n",
    "user_tags = {}\n",
    "tag_items = {}\n",
    "user_items = {}\n",
    "# additionnal dict\n",
    "items_tags = {}\n",
    "tag_users = {}\n",
    "items_users = {}"
   ]
  },
  {
   "cell_type": "code",
   "execution_count": 4,
   "metadata": {},
   "outputs": [
    {
     "name": "stdout",
     "output_type": "stream",
     "text": [
      "Begin load data.\n"
     ]
    },
    {
     "name": "stderr",
     "output_type": "stream",
     "text": [
      "100%|██████████| 437593/437593 [00:22<00:00, 19095.90it/s]"
     ]
    },
    {
     "name": "stdout",
     "output_type": "stream",
     "text": [
      "dataset size: 437593.\n",
      "number of peolple set tag: 1867\n",
      "load data complete.\n"
     ]
    },
    {
     "name": "stderr",
     "output_type": "stream",
     "text": [
      "\n"
     ]
    }
   ],
   "source": [
    "def load_data(file_name):\n",
    "    print(\"Begin load data.\")\n",
    "    data = pd.read_csv(data_file, sep = '\\t')\n",
    "    for i in tqdm(range(len(data))):\n",
    "        uid = data['userID'][i]\n",
    "        iid = data['bookmarkID'][i]\n",
    "        tag = data['tagID'][i]\n",
    "        records.setdefault(uid, {})\n",
    "        records[uid].setdefault(iid, [])\n",
    "        records[uid][iid].append(tag)\n",
    "    print(\"dataset size: %d.\" %(len(data)))\n",
    "    print(\"number of peolple set tag: %d\" % (len(records)))\n",
    "    print(\"load data complete.\")\n",
    "load_data(data_file)"
   ]
  },
  {
   "cell_type": "code",
   "execution_count": 5,
   "metadata": {
    "scrolled": true
   },
   "outputs": [
    {
     "name": "stderr",
     "output_type": "stream",
     "text": [
      "100%|██████████| 1867/1867 [00:00<00:00, 5529.92it/s]"
     ]
    },
    {
     "name": "stdout",
     "output_type": "stream",
     "text": [
      "train sample: 1859, test sample: 1798\n"
     ]
    },
    {
     "name": "stderr",
     "output_type": "stream",
     "text": [
      "\n"
     ]
    }
   ],
   "source": [
    "def train_test_split(ratio = 0.2, seed = 123):\n",
    "    random.seed(seed)\n",
    "    for u in tqdm(records.keys()):\n",
    "        for i in records[u].keys():\n",
    "            if random.random() < ratio:\n",
    "                test_data.setdefault(u, {})\n",
    "                test_data[u].setdefault(i, [])\n",
    "                for t in records[u][i]:\n",
    "                    test_data[u][i].append(t)\n",
    "            else:\n",
    "                train_data.setdefault(u,{})\n",
    "                train_data[u].setdefault(i,[])\n",
    "                for t in records[u][i]:\n",
    "                    train_data[u][i].append(t)\n",
    "                    \n",
    "    print(\"train sample: %d, test sample: %d\" % (len(train_data), len(test_data)))\n",
    "train_test_split(0.2)"
   ]
  },
  {
   "cell_type": "code",
   "execution_count": 6,
   "metadata": {},
   "outputs": [],
   "source": [
    "# set matrix mat[index, item] = 1\n",
    "def addValueToMat(mat, index, item, value=1):\n",
    "    if index not in mat:\n",
    "        mat.setdefault(index,{})\n",
    "        mat[index].setdefault(item,value)\n",
    "    else:\n",
    "        if item not in mat[index]:\n",
    "            mat[index][item] = value\n",
    "        else:\n",
    "            mat[index][item] += value\n",
    "\n",
    "        "
   ]
  },
  {
   "cell_type": "code",
   "execution_count": 8,
   "metadata": {},
   "outputs": [
    {
     "name": "stderr",
     "output_type": "stream",
     "text": [
      "100%|██████████| 1859/1859 [00:01<00:00, 936.33it/s] "
     ]
    },
    {
     "name": "stdout",
     "output_type": "stream",
     "text": [
      "user_tags, tag_items, user_items initialize.\n",
      "user_tags: 1859, tag_items: 36811, user_items: 1859\n"
     ]
    },
    {
     "name": "stderr",
     "output_type": "stream",
     "text": [
      "\n"
     ]
    }
   ],
   "source": [
    "def initStat():\n",
    "    records = train_data\n",
    "    for u, items in tqdm(records.items()):\n",
    "        for i, tags in items.items():\n",
    "            for tag in tags:\n",
    "                # relation between user and tag\n",
    "                addValueToMat(user_tags, u, tag, 1)\n",
    "                # relation between tag and item\n",
    "                addValueToMat(tag_items, tag, i, 1)\n",
    "                # relation between user and item\n",
    "                addValueToMat(user_items, u, i, 1)\n",
    "                # relation between item and tag\n",
    "                addValueToMat(items_tags, i, tag, 1)\n",
    "                # relation between tag and user\n",
    "                addValueToMat(tag_users, tag, u, 1)\n",
    "                # relation between item and user\n",
    "                addValueToMat(items_users, i, u, 1)\n",
    "    print(\"user_tags, tag_items, user_items initialize.\")\n",
    "    print(\"user_tags: %d, tag_items: %d, user_items: %d\" % (len(user_tags), len(tag_items), len(user_items)))\n",
    "initStat()"
   ]
  },
  {
   "cell_type": "code",
   "execution_count": 9,
   "metadata": {},
   "outputs": [],
   "source": [
    "# recommend top N tag for user\n",
    "def recommend(user, N):\n",
    "    recommend_items = {}\n",
    "    tagged_items = user_items[user]\n",
    "    for tag, wut in user_tags[user].items():\n",
    "        for item, wti in tag_items[tag].items():\n",
    "            if item in tagged_items:\n",
    "                continue\n",
    "            # NormTagBased-1 algorithm\n",
    "            #norm = len(tag_users[tag].items()) * len(user_tags[user.items()])\n",
    "            # TagBased-IDF algorithm\n",
    "            norm = math.log(len(tag_users[tag].items()) + 1)\n",
    "            \n",
    "#             if item not in recommend_items:\n",
    "#                 recommend_items[item] = wut * wti\n",
    "#             else:\n",
    "#                 recommend_items[item] = recommend_items[item] + wut * wti\n",
    "            if item not in recommend_items:\n",
    "                recommend_items[item] = wut * wti / norm\n",
    "            else:\n",
    "                recommend_items[item] = recommend_items[item] + wut * wti / norm\n",
    "    return sorted(recommend_items.items(), key = operator.itemgetter(1), reverse = True)[0:N]\n"
   ]
  },
  {
   "cell_type": "code",
   "execution_count": 10,
   "metadata": {},
   "outputs": [],
   "source": [
    "# calculate presicion and recall\n",
    "def precisionAndRecall(N):\n",
    "    hit = 0\n",
    "    h_recall = 0\n",
    "    h_precision = 0\n",
    "    for user, items in tqdm(test_data.items()):\n",
    "        if user not in train_data:\n",
    "            continue\n",
    "        rank = recommend(user, N)\n",
    "        for item, rui in rank:\n",
    "            if item in items:\n",
    "                hit = hit + 1\n",
    "        h_recall = h_recall + len(items)\n",
    "        h_precision = h_precision + N\n",
    "        \n",
    "    return (hit/(h_precision*1.0)), (hit/(h_recall*1.0))"
   ]
  },
  {
   "cell_type": "code",
   "execution_count": 11,
   "metadata": {},
   "outputs": [],
   "source": [
    "\n",
    "def testRecommend():\n",
    "    print(\"asscess recommend result\")\n",
    "    print(\"%3s %10s %10s\" % ('N',\"precision\",'recall'))\n",
    "    for n in [5,10,20,40,60,80,100]:\n",
    "        precision,recall = precisionAndRecall(n)\n",
    "        print(\"%3d %10.3f%% %10.3f%%\" % (n, precision * 100, recall * 100))"
   ]
  },
  {
   "cell_type": "code",
   "execution_count": 12,
   "metadata": {},
   "outputs": [
    {
     "name": "stderr",
     "output_type": "stream",
     "text": [
      "\r",
      "  0%|          | 0/1798 [00:00<?, ?it/s]"
     ]
    },
    {
     "name": "stdout",
     "output_type": "stream",
     "text": [
      "asscess recommend result\n",
      "  N  precision     recall\n"
     ]
    },
    {
     "name": "stderr",
     "output_type": "stream",
     "text": [
      "100%|██████████| 1798/1798 [01:14<00:00, 24.18it/s]\n",
      "  0%|          | 4/1798 [00:00<01:03, 28.18it/s]"
     ]
    },
    {
     "name": "stdout",
     "output_type": "stream",
     "text": [
      "  5      0.894%      0.381%\n"
     ]
    },
    {
     "name": "stderr",
     "output_type": "stream",
     "text": [
      "100%|██████████| 1798/1798 [01:10<00:00, 25.52it/s]\n",
      "  0%|          | 4/1798 [00:00<01:14, 24.11it/s]"
     ]
    },
    {
     "name": "stdout",
     "output_type": "stream",
     "text": [
      " 10      0.721%      0.614%\n"
     ]
    },
    {
     "name": "stderr",
     "output_type": "stream",
     "text": [
      "100%|██████████| 1798/1798 [01:12<00:00, 24.71it/s]\n",
      "  0%|          | 4/1798 [00:00<00:52, 34.18it/s]"
     ]
    },
    {
     "name": "stdout",
     "output_type": "stream",
     "text": [
      " 20      0.570%      0.970%\n"
     ]
    },
    {
     "name": "stderr",
     "output_type": "stream",
     "text": [
      "100%|██████████| 1798/1798 [01:14<00:00, 24.12it/s]\n",
      "  0%|          | 4/1798 [00:00<00:59, 29.91it/s]"
     ]
    },
    {
     "name": "stdout",
     "output_type": "stream",
     "text": [
      " 40      0.433%      1.475%\n"
     ]
    },
    {
     "name": "stderr",
     "output_type": "stream",
     "text": [
      "100%|██████████| 1798/1798 [01:10<00:00, 25.55it/s]\n",
      "  0%|          | 4/1798 [00:00<01:04, 27.99it/s]"
     ]
    },
    {
     "name": "stdout",
     "output_type": "stream",
     "text": [
      " 60      0.346%      1.769%\n"
     ]
    },
    {
     "name": "stderr",
     "output_type": "stream",
     "text": [
      "100%|██████████| 1798/1798 [01:10<00:00, 25.55it/s]\n",
      "  0%|          | 4/1798 [00:00<00:48, 36.92it/s]"
     ]
    },
    {
     "name": "stdout",
     "output_type": "stream",
     "text": [
      " 80      0.298%      2.031%\n"
     ]
    },
    {
     "name": "stderr",
     "output_type": "stream",
     "text": [
      "100%|██████████| 1798/1798 [01:14<00:00, 24.20it/s]"
     ]
    },
    {
     "name": "stdout",
     "output_type": "stream",
     "text": [
      "100      0.268%      2.283%\n"
     ]
    },
    {
     "name": "stderr",
     "output_type": "stream",
     "text": [
      "\n"
     ]
    }
   ],
   "source": [
    "testRecommend()"
   ]
  },
  {
   "cell_type": "code",
   "execution_count": null,
   "metadata": {},
   "outputs": [],
   "source": []
  }
 ],
 "metadata": {
  "kernelspec": {
   "display_name": "Python 3",
   "language": "python",
   "name": "python3"
  },
  "language_info": {
   "codemirror_mode": {
    "name": "ipython",
    "version": 3
   },
   "file_extension": ".py",
   "mimetype": "text/x-python",
   "name": "python",
   "nbconvert_exporter": "python",
   "pygments_lexer": "ipython3",
   "version": "3.6.4"
  }
 },
 "nbformat": 4,
 "nbformat_minor": 2
}
