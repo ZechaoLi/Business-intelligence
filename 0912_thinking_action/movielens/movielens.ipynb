{
  "nbformat": 4,
  "nbformat_minor": 0,
  "metadata": {
    "colab": {
      "name": "movielens.ipynb",
      "provenance": []
    },
    "kernelspec": {
      "name": "python3",
      "display_name": "Python 3"
    },
    "accelerator": "GPU"
  },
  "cells": [
    {
      "cell_type": "code",
      "metadata": {
        "id": "eQw8NwcDysfB",
        "colab_type": "code",
        "colab": {}
      },
      "source": [
        "from surprise import SVD\n",
        "from surprise import SVDpp\n",
        "from surprise import Dataset\n",
        "from surprise.model_selection import cross_validate\n",
        "from surprise import Reader\n",
        "from surprise import accuracy\n",
        "from surprise.model_selection import KFold\n",
        "import pandas as pd\n",
        "import time"
      ],
      "execution_count": 11,
      "outputs": []
    },
    {
      "cell_type": "code",
      "metadata": {
        "id": "QJCMS3TwWLCg",
        "colab_type": "code",
        "colab": {}
      },
      "source": [
        "from google.colab import drive"
      ],
      "execution_count": 2,
      "outputs": []
    },
    {
      "cell_type": "code",
      "metadata": {
        "id": "eA2zVr6vXP8i",
        "colab_type": "code",
        "colab": {
          "base_uri": "https://localhost:8080/",
          "height": 34
        },
        "outputId": "f5421b03-0a73-4c9a-dacf-f6e1a4806d9e"
      },
      "source": [
        "drive.mount(\"/content/drive\")\n",
        "import os\n",
        "os.chdir(\"/content/drive/My Drive/Colab Notebooks\")"
      ],
      "execution_count": 3,
      "outputs": [
        {
          "output_type": "stream",
          "text": [
            "Drive already mounted at /content/drive; to attempt to forcibly remount, call drive.mount(\"/content/drive\", force_remount=True).\n"
          ],
          "name": "stdout"
        }
      ]
    },
    {
      "cell_type": "code",
      "metadata": {
        "id": "3-zho0WGXmjj",
        "colab_type": "code",
        "colab": {}
      },
      "source": [
        "time1 = time.time()"
      ],
      "execution_count": 4,
      "outputs": []
    },
    {
      "cell_type": "code",
      "metadata": {
        "id": "t9eOmOv1YLZs",
        "colab_type": "code",
        "colab": {}
      },
      "source": [
        "reader = Reader(line_format=\"user item rating timestamp\", sep=\",\", skip_lines=1)\n",
        "data = Dataset.load_from_file(\"ratings.csv\", reader=reader)\n",
        "train_set = data.build_full_trainset()"
      ],
      "execution_count": 5,
      "outputs": []
    },
    {
      "cell_type": "code",
      "metadata": {
        "id": "GXrQ4S_ya6Nd",
        "colab_type": "code",
        "colab": {}
      },
      "source": [
        "#usd funSVD\n",
        "algo = SVD(biased=False)"
      ],
      "execution_count": 6,
      "outputs": []
    },
    {
      "cell_type": "code",
      "metadata": {
        "id": "UdGwYVvwbLgO",
        "colab_type": "code",
        "colab": {
          "base_uri": "https://localhost:8080/",
          "height": 67
        },
        "outputId": "04b63bb3-96a6-481e-ee53-290ee316f266"
      },
      "source": [
        "#define k fold\n",
        "kf = KFold(n_splits=3)\n",
        "for trainset, testset in kf.split(data):\n",
        "  algo.fit(trainset)\n",
        "  predictions = algo.test(testset)\n",
        "  accuracy.rmse(predictions, verbose=True)"
      ],
      "execution_count": 7,
      "outputs": [
        {
          "output_type": "stream",
          "text": [
            "RMSE: 0.8713\n",
            "RMSE: 0.8717\n",
            "RMSE: 0.8723\n"
          ],
          "name": "stdout"
        }
      ]
    },
    {
      "cell_type": "code",
      "metadata": {
        "id": "slEimE6Nb4x_",
        "colab_type": "code",
        "colab": {
          "base_uri": "https://localhost:8080/",
          "height": 50
        },
        "outputId": "2c278e66-e4e7-45f6-cb70-8809a8dad376"
      },
      "source": [
        "uid = str(196)\n",
        "iid = str(302)\n",
        "pred = algo.predict(uid, iid, r_ui=4, verbose=True)\n",
        "time2 = time.time()\n",
        "print(time2-time1)"
      ],
      "execution_count": 8,
      "outputs": [
        {
          "output_type": "stream",
          "text": [
            "user: 196        item: 302        r_ui = 4.00   est = 4.42   {'was_impossible': False}\n",
            "136.68439936637878\n"
          ],
          "name": "stdout"
        }
      ]
    },
    {
      "cell_type": "code",
      "metadata": {
        "id": "4WOvwqFlcTQj",
        "colab_type": "code",
        "colab": {
          "base_uri": "https://localhost:8080/",
          "height": 101
        },
        "outputId": "6b10acf0-6251-4006-d211-01735cf54ffe"
      },
      "source": [
        "# used funSVD\n",
        "time1 = time.time()\n",
        "algo2 = SVD(biased = False)\n",
        "kf = KFold(n_splits=3)\n",
        "for trainset, testset in kf.split(data):\n",
        "  algo2.fit(trainset)\n",
        "  predictions = algo.test(testset)\n",
        "  accuracy.rmse(predictions, verbose=True)\n",
        "\n",
        "uid = str(196)\n",
        "iid = str(302)\n",
        "pred = algo2.predict(uid, iid, r_ui=4, verbose=True)\n",
        "time2 = time.time()\n",
        "print(time2-time1) "
      ],
      "execution_count": 9,
      "outputs": [
        {
          "output_type": "stream",
          "text": [
            "RMSE: 0.7227\n",
            "RMSE: 0.7217\n",
            "RMSE: 0.7209\n",
            "user: 196        item: 302        r_ui = 4.00   est = 4.29   {'was_impossible': False}\n",
            "132.3886318206787\n"
          ],
          "name": "stdout"
        }
      ]
    },
    {
      "cell_type": "code",
      "metadata": {
        "id": "fM17o9EnfBS9",
        "colab_type": "code",
        "colab": {
          "base_uri": "https://localhost:8080/",
          "height": 101
        },
        "outputId": "81736c68-1401-4e67-c1dd-45dcaeecf53e"
      },
      "source": [
        "# use SVD++\n",
        "time1 = time.time()\n",
        "algo3 = SVDpp()\n",
        "kf = KFold(n_splits=3)\n",
        "for trainset, testset in kf.split(data):\n",
        "  algo3.fit(trainset)\n",
        "  predictions = algo.test(testset)\n",
        "  accuracy.rmse(predictions, verbose=True)\n",
        "\n",
        "uid = str(196)\n",
        "iid = str(302)\n",
        "pred = algo3.predict(uid, iid, r_ui=4, verbose=True)\n",
        "time2 = time.time()\n",
        "print(time2-time1) "
      ],
      "execution_count": 12,
      "outputs": [
        {
          "output_type": "stream",
          "text": [
            "RMSE: 0.7223\n",
            "RMSE: 0.7200\n",
            "RMSE: 0.7231\n",
            "user: 196        item: 302        r_ui = 4.00   est = 3.76   {'was_impossible': False}\n",
            "7763.418575525284\n"
          ],
          "name": "stdout"
        }
      ]
    },
    {
      "cell_type": "code",
      "metadata": {
        "id": "oXA8qFW0go41",
        "colab_type": "code",
        "colab": {}
      },
      "source": [
        ""
      ],
      "execution_count": null,
      "outputs": []
    }
  ]
}