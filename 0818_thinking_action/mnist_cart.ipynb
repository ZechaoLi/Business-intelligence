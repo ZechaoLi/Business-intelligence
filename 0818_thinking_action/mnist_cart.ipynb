{
 "cells": [
  {
   "cell_type": "code",
   "execution_count": 1,
   "metadata": {},
   "outputs": [],
   "source": [
    "\n",
    "import numpy as np\n",
    "from sklearn.datasets import load_digits\n",
    "from sklearn.model_selection import train_test_split\n",
    "from sklearn import preprocessing\n",
    "from sklearn import tree\n",
    "from sklearn.metrics import accuracy_score"
   ]
  },
  {
   "cell_type": "code",
   "execution_count": 2,
   "metadata": {},
   "outputs": [],
   "source": [
    "\n",
    "random_seed = 123\n"
   ]
  },
  {
   "cell_type": "code",
   "execution_count": 5,
   "metadata": {},
   "outputs": [
    {
     "name": "stdout",
     "output_type": "stream",
     "text": [
      "CART accuracy: 0.8407\n"
     ]
    }
   ],
   "source": [
    "digits = load_digits()\n",
    "mnist_datasets = digits.data\n",
    "#print(mnist_datasets[0])\n",
    "y = digits.target\n",
    "\n",
    "train_x, test_x, train_y, test_y = train_test_split(mnist_datasets, y, test_size = 0.3, random_state = random_seed)\n",
    "\n",
    "# prepocessing\n",
    "#ss = preprocessing.StandardScaler()\n",
    "#train_x = ss.fit_transform(train_x)\n",
    "#test_x = ss.transform(test_x)\n",
    "\n",
    "# creat cart classifier\n",
    "clf = tree.DecisionTreeClassifier(criterion='gini', splitter='random', max_depth=None,\n",
    "    min_samples_split=2, min_samples_leaf=1, min_weight_fraction_leaf=0.0, max_features=None,\n",
    "    random_state=None, max_leaf_nodes=None, min_impurity_decrease=0.0, min_impurity_split=None,\n",
    "    class_weight=None, presort='auto') # default using gini\n",
    "\n",
    "clf.fit(train_x, train_y)\n",
    "\n",
    "predict_y = clf.predict(test_x)\n",
    "\n",
    "print('CART accuracy: %0.4f' % accuracy_score(predict_y, test_y))"
   ]
  },
  {
   "cell_type": "code",
   "execution_count": null,
   "metadata": {},
   "outputs": [],
   "source": []
  }
 ],
 "metadata": {
  "kernelspec": {
   "display_name": "Python 3",
   "language": "python",
   "name": "python3"
  },
  "language_info": {
   "codemirror_mode": {
    "name": "ipython",
    "version": 3
   },
   "file_extension": ".py",
   "mimetype": "text/x-python",
   "name": "python",
   "nbconvert_exporter": "python",
   "pygments_lexer": "ipython3",
   "version": "3.6.4"
  }
 },
 "nbformat": 4,
 "nbformat_minor": 2
}
