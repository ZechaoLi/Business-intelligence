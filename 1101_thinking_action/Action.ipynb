{
 "cells": [
  {
   "cell_type": "code",
   "execution_count": 1,
   "metadata": {},
   "outputs": [],
   "source": [
    "import pandas as pd\n",
    "import numpy as np"
   ]
  },
  {
   "cell_type": "code",
   "execution_count": 2,
   "metadata": {},
   "outputs": [],
   "source": [
    "df = pd.read_csv(\"SupplyChain.csv\", encoding=\"unicode_escape\")"
   ]
  },
  {
   "cell_type": "code",
   "execution_count": 3,
   "metadata": {},
   "outputs": [
    {
     "name": "stdout",
     "output_type": "stream",
     "text": [
      "<class 'pandas.core.frame.DataFrame'>\n",
      "RangeIndex: 180519 entries, 0 to 180518\n",
      "Data columns (total 53 columns):\n",
      " #   Column                         Non-Null Count   Dtype  \n",
      "---  ------                         --------------   -----  \n",
      " 0   Type                           180519 non-null  object \n",
      " 1   Days for shipping (real)       180519 non-null  int64  \n",
      " 2   Days for shipment (scheduled)  180519 non-null  int64  \n",
      " 3   Benefit per order              180519 non-null  float64\n",
      " 4   Sales per customer             180519 non-null  float64\n",
      " 5   Delivery Status                180519 non-null  object \n",
      " 6   Late_delivery_risk             180519 non-null  int64  \n",
      " 7   Category Id                    180519 non-null  int64  \n",
      " 8   Category Name                  180519 non-null  object \n",
      " 9   Customer City                  180519 non-null  object \n",
      " 10  Customer Country               180519 non-null  object \n",
      " 11  Customer Email                 180519 non-null  object \n",
      " 12  Customer Fname                 180519 non-null  object \n",
      " 13  Customer Id                    180519 non-null  int64  \n",
      " 14  Customer Lname                 180511 non-null  object \n",
      " 15  Customer Password              180519 non-null  object \n",
      " 16  Customer Segment               180519 non-null  object \n",
      " 17  Customer State                 180519 non-null  object \n",
      " 18  Customer Street                180519 non-null  object \n",
      " 19  Customer Zipcode               180516 non-null  float64\n",
      " 20  Department Id                  180519 non-null  int64  \n",
      " 21  Department Name                180519 non-null  object \n",
      " 22  Latitude                       180519 non-null  float64\n",
      " 23  Longitude                      180519 non-null  float64\n",
      " 24  Market                         180519 non-null  object \n",
      " 25  Order City                     180519 non-null  object \n",
      " 26  Order Country                  180519 non-null  object \n",
      " 27  Order Customer Id              180519 non-null  int64  \n",
      " 28  order date (DateOrders)        180519 non-null  object \n",
      " 29  Order Id                       180519 non-null  int64  \n",
      " 30  Order Item Cardprod Id         180519 non-null  int64  \n",
      " 31  Order Item Discount            180519 non-null  float64\n",
      " 32  Order Item Discount Rate       180519 non-null  float64\n",
      " 33  Order Item Id                  180519 non-null  int64  \n",
      " 34  Order Item Product Price       180519 non-null  float64\n",
      " 35  Order Item Profit Ratio        180519 non-null  float64\n",
      " 36  Order Item Quantity            180519 non-null  int64  \n",
      " 37  Sales                          180519 non-null  float64\n",
      " 38  Order Item Total               180519 non-null  float64\n",
      " 39  Order Profit Per Order         180519 non-null  float64\n",
      " 40  Order Region                   180519 non-null  object \n",
      " 41  Order State                    180519 non-null  object \n",
      " 42  Order Status                   180519 non-null  object \n",
      " 43  Order Zipcode                  24840 non-null   float64\n",
      " 44  Product Card Id                180519 non-null  int64  \n",
      " 45  Product Category Id            180519 non-null  int64  \n",
      " 46  Product Description            0 non-null       float64\n",
      " 47  Product Image                  180519 non-null  object \n",
      " 48  Product Name                   180519 non-null  object \n",
      " 49  Product Price                  180519 non-null  float64\n",
      " 50  Product Status                 180519 non-null  int64  \n",
      " 51  shipping date (DateOrders)     180519 non-null  object \n",
      " 52  Shipping Mode                  180519 non-null  object \n",
      "dtypes: float64(15), int64(14), object(24)\n",
      "memory usage: 73.0+ MB\n"
     ]
    }
   ],
   "source": [
    "# dataframe information\n",
    "df.info()"
   ]
  },
  {
   "cell_type": "code",
   "execution_count": 4,
   "metadata": {},
   "outputs": [
    {
     "data": {
      "text/plain": [
       "Customer Lname              8\n",
       "Customer Zipcode            3\n",
       "Order Zipcode          155679\n",
       "Product Description    180519\n",
       "dtype: int64"
      ]
     },
     "execution_count": 4,
     "metadata": {},
     "output_type": "execute_result"
    }
   ],
   "source": [
    "# check null value\n",
    "temp = df.isnull().sum()\n",
    "temp[temp > 0]"
   ]
  },
  {
   "cell_type": "code",
   "execution_count": 5,
   "metadata": {},
   "outputs": [],
   "source": [
    "# combine firstname and lastname\n",
    "df[\"Customer Full Name\"] = df[\"Customer Fname\"] + df[\"Customer Lname\"]"
   ]
  },
  {
   "cell_type": "code",
   "execution_count": 6,
   "metadata": {},
   "outputs": [
    {
     "data": {
      "text/plain": [
       "0"
      ]
     },
     "execution_count": 6,
     "metadata": {},
     "output_type": "execute_result"
    }
   ],
   "source": [
    "# fill Customer  zipcode\n",
    "df[\"Customer Zipcode\"] = df[\"Customer Zipcode\"].fillna(0)\n",
    "df[\"Customer Zipcode\"].isnull().sum()"
   ]
  },
  {
   "cell_type": "code",
   "execution_count": 7,
   "metadata": {},
   "outputs": [],
   "source": [
    "import matplotlib.pyplot as plt\n",
    "import seaborn as sns\n",
    "\n",
    "# correlation between features\n",
    "data = df"
   ]
  },
  {
   "cell_type": "code",
   "execution_count": 8,
   "metadata": {},
   "outputs": [],
   "source": [
    "data['order date (DateOrders)'] = pd.to_datetime(data['order date (DateOrders)'])"
   ]
  },
  {
   "cell_type": "code",
   "execution_count": 9,
   "metadata": {},
   "outputs": [
    {
     "data": {
      "text/plain": [
       "Timestamp('2018-01-31 23:38:00')"
      ]
     },
     "execution_count": 9,
     "metadata": {},
     "output_type": "execute_result"
    }
   ],
   "source": [
    "data['order date (DateOrders)'].max()"
   ]
  },
  {
   "cell_type": "code",
   "execution_count": 10,
   "metadata": {},
   "outputs": [
    {
     "data": {
      "text/plain": [
       "datetime.datetime(2018, 2, 1, 0, 0)"
      ]
     },
     "execution_count": 10,
     "metadata": {},
     "output_type": "execute_result"
    }
   ],
   "source": [
    "import datetime\n",
    "present = datetime.datetime(2018, 2, 1, 0, 0)\n",
    "present"
   ]
  },
  {
   "cell_type": "code",
   "execution_count": 11,
   "metadata": {},
   "outputs": [
    {
     "data": {
      "text/html": [
       "<div>\n",
       "<style scoped>\n",
       "    .dataframe tbody tr th:only-of-type {\n",
       "        vertical-align: middle;\n",
       "    }\n",
       "\n",
       "    .dataframe tbody tr th {\n",
       "        vertical-align: top;\n",
       "    }\n",
       "\n",
       "    .dataframe thead th {\n",
       "        text-align: right;\n",
       "    }\n",
       "</style>\n",
       "<table border=\"1\" class=\"dataframe\">\n",
       "  <thead>\n",
       "    <tr style=\"text-align: right;\">\n",
       "      <th></th>\n",
       "      <th>order_year</th>\n",
       "      <th>order_month</th>\n",
       "      <th>order_week_day</th>\n",
       "      <th>order_hour</th>\n",
       "      <th>order_month_year</th>\n",
       "    </tr>\n",
       "  </thead>\n",
       "  <tbody>\n",
       "    <tr>\n",
       "      <th>0</th>\n",
       "      <td>2018</td>\n",
       "      <td>1</td>\n",
       "      <td>2</td>\n",
       "      <td>22</td>\n",
       "      <td>2018-01</td>\n",
       "    </tr>\n",
       "    <tr>\n",
       "      <th>1</th>\n",
       "      <td>2018</td>\n",
       "      <td>1</td>\n",
       "      <td>5</td>\n",
       "      <td>12</td>\n",
       "      <td>2018-01</td>\n",
       "    </tr>\n",
       "    <tr>\n",
       "      <th>2</th>\n",
       "      <td>2018</td>\n",
       "      <td>1</td>\n",
       "      <td>5</td>\n",
       "      <td>12</td>\n",
       "      <td>2018-01</td>\n",
       "    </tr>\n",
       "    <tr>\n",
       "      <th>3</th>\n",
       "      <td>2018</td>\n",
       "      <td>1</td>\n",
       "      <td>5</td>\n",
       "      <td>11</td>\n",
       "      <td>2018-01</td>\n",
       "    </tr>\n",
       "    <tr>\n",
       "      <th>4</th>\n",
       "      <td>2018</td>\n",
       "      <td>1</td>\n",
       "      <td>5</td>\n",
       "      <td>11</td>\n",
       "      <td>2018-01</td>\n",
       "    </tr>\n",
       "    <tr>\n",
       "      <th>...</th>\n",
       "      <td>...</td>\n",
       "      <td>...</td>\n",
       "      <td>...</td>\n",
       "      <td>...</td>\n",
       "      <td>...</td>\n",
       "    </tr>\n",
       "    <tr>\n",
       "      <th>180514</th>\n",
       "      <td>2016</td>\n",
       "      <td>1</td>\n",
       "      <td>5</td>\n",
       "      <td>3</td>\n",
       "      <td>2016-01</td>\n",
       "    </tr>\n",
       "    <tr>\n",
       "      <th>180515</th>\n",
       "      <td>2016</td>\n",
       "      <td>1</td>\n",
       "      <td>5</td>\n",
       "      <td>1</td>\n",
       "      <td>2016-01</td>\n",
       "    </tr>\n",
       "    <tr>\n",
       "      <th>180516</th>\n",
       "      <td>2016</td>\n",
       "      <td>1</td>\n",
       "      <td>4</td>\n",
       "      <td>21</td>\n",
       "      <td>2016-01</td>\n",
       "    </tr>\n",
       "    <tr>\n",
       "      <th>180517</th>\n",
       "      <td>2016</td>\n",
       "      <td>1</td>\n",
       "      <td>4</td>\n",
       "      <td>20</td>\n",
       "      <td>2016-01</td>\n",
       "    </tr>\n",
       "    <tr>\n",
       "      <th>180518</th>\n",
       "      <td>2016</td>\n",
       "      <td>1</td>\n",
       "      <td>4</td>\n",
       "      <td>18</td>\n",
       "      <td>2016-01</td>\n",
       "    </tr>\n",
       "  </tbody>\n",
       "</table>\n",
       "<p>180519 rows × 5 columns</p>\n",
       "</div>"
      ],
      "text/plain": [
       "        order_year  order_month  order_week_day  order_hour order_month_year\n",
       "0             2018            1               2          22          2018-01\n",
       "1             2018            1               5          12          2018-01\n",
       "2             2018            1               5          12          2018-01\n",
       "3             2018            1               5          11          2018-01\n",
       "4             2018            1               5          11          2018-01\n",
       "...            ...          ...             ...         ...              ...\n",
       "180514        2016            1               5           3          2016-01\n",
       "180515        2016            1               5           1          2016-01\n",
       "180516        2016            1               4          21          2016-01\n",
       "180517        2016            1               4          20          2016-01\n",
       "180518        2016            1               4          18          2016-01\n",
       "\n",
       "[180519 rows x 5 columns]"
      ]
     },
     "execution_count": 11,
     "metadata": {},
     "output_type": "execute_result"
    }
   ],
   "source": [
    "tmp = pd.DatetimeIndex(data[\"order date (DateOrders)\"])\n",
    "\n",
    "data[\"order_year\"] = tmp.year\n",
    "data[\"order_month\"] = tmp.month\n",
    "data[\"order_week_day\"] = tmp.weekday\n",
    "data[\"order_hour\"] = tmp.hour\n",
    "data[\"order_month_year\"] = tmp.to_period('M')\n",
    "\n",
    "data[[\"order_year\", \"order_month\", \"order_week_day\", \"order_hour\", \"order_month_year\"]]"
   ]
  },
  {
   "cell_type": "code",
   "execution_count": 12,
   "metadata": {},
   "outputs": [
    {
     "data": {
      "text/html": [
       "<div>\n",
       "<style scoped>\n",
       "    .dataframe tbody tr th:only-of-type {\n",
       "        vertical-align: middle;\n",
       "    }\n",
       "\n",
       "    .dataframe tbody tr th {\n",
       "        vertical-align: top;\n",
       "    }\n",
       "\n",
       "    .dataframe thead th {\n",
       "        text-align: right;\n",
       "    }\n",
       "</style>\n",
       "<table border=\"1\" class=\"dataframe\">\n",
       "  <thead>\n",
       "    <tr style=\"text-align: right;\">\n",
       "      <th></th>\n",
       "      <th>order date (DateOrders)</th>\n",
       "      <th>Order Id</th>\n",
       "      <th>Sales</th>\n",
       "    </tr>\n",
       "    <tr>\n",
       "      <th>Order Customer Id</th>\n",
       "      <th></th>\n",
       "      <th></th>\n",
       "      <th></th>\n",
       "    </tr>\n",
       "  </thead>\n",
       "  <tbody>\n",
       "    <tr>\n",
       "      <th>1</th>\n",
       "      <td>792</td>\n",
       "      <td>1</td>\n",
       "      <td>499.950012</td>\n",
       "    </tr>\n",
       "    <tr>\n",
       "      <th>2</th>\n",
       "      <td>136</td>\n",
       "      <td>10</td>\n",
       "      <td>1819.730034</td>\n",
       "    </tr>\n",
       "    <tr>\n",
       "      <th>3</th>\n",
       "      <td>229</td>\n",
       "      <td>18</td>\n",
       "      <td>3537.680094</td>\n",
       "    </tr>\n",
       "    <tr>\n",
       "      <th>4</th>\n",
       "      <td>380</td>\n",
       "      <td>14</td>\n",
       "      <td>1719.630030</td>\n",
       "    </tr>\n",
       "    <tr>\n",
       "      <th>5</th>\n",
       "      <td>457</td>\n",
       "      <td>7</td>\n",
       "      <td>1274.750023</td>\n",
       "    </tr>\n",
       "    <tr>\n",
       "      <th>...</th>\n",
       "      <td>...</td>\n",
       "      <td>...</td>\n",
       "      <td>...</td>\n",
       "    </tr>\n",
       "    <tr>\n",
       "      <th>20753</th>\n",
       "      <td>0</td>\n",
       "      <td>1</td>\n",
       "      <td>215.820007</td>\n",
       "    </tr>\n",
       "    <tr>\n",
       "      <th>20754</th>\n",
       "      <td>0</td>\n",
       "      <td>1</td>\n",
       "      <td>215.820007</td>\n",
       "    </tr>\n",
       "    <tr>\n",
       "      <th>20755</th>\n",
       "      <td>0</td>\n",
       "      <td>1</td>\n",
       "      <td>327.750000</td>\n",
       "    </tr>\n",
       "    <tr>\n",
       "      <th>20756</th>\n",
       "      <td>0</td>\n",
       "      <td>1</td>\n",
       "      <td>11.540000</td>\n",
       "    </tr>\n",
       "    <tr>\n",
       "      <th>20757</th>\n",
       "      <td>0</td>\n",
       "      <td>1</td>\n",
       "      <td>39.750000</td>\n",
       "    </tr>\n",
       "  </tbody>\n",
       "</table>\n",
       "<p>20652 rows × 3 columns</p>\n",
       "</div>"
      ],
      "text/plain": [
       "                   order date (DateOrders)  Order Id        Sales\n",
       "Order Customer Id                                                \n",
       "1                                      792         1   499.950012\n",
       "2                                      136        10  1819.730034\n",
       "3                                      229        18  3537.680094\n",
       "4                                      380        14  1719.630030\n",
       "5                                      457         7  1274.750023\n",
       "...                                    ...       ...          ...\n",
       "20753                                    0         1   215.820007\n",
       "20754                                    0         1   215.820007\n",
       "20755                                    0         1   327.750000\n",
       "20756                                    0         1    11.540000\n",
       "20757                                    0         1    39.750000\n",
       "\n",
       "[20652 rows x 3 columns]"
      ]
     },
     "execution_count": 12,
     "metadata": {},
     "output_type": "execute_result"
    }
   ],
   "source": [
    "# compute rfm \n",
    "customer_seg = data.groupby('Order Customer Id').agg({'order date (DateOrders)': lambda x: (present - x.max()).days, \\\n",
    "                                                      'Order Id': lambda x: len(x), 'Sales': lambda x: x.sum()})\n",
    "customer_seg"
   ]
  },
  {
   "cell_type": "code",
   "execution_count": 18,
   "metadata": {},
   "outputs": [
    {
     "data": {
      "text/html": [
       "<div>\n",
       "<style scoped>\n",
       "    .dataframe tbody tr th:only-of-type {\n",
       "        vertical-align: middle;\n",
       "    }\n",
       "\n",
       "    .dataframe tbody tr th {\n",
       "        vertical-align: top;\n",
       "    }\n",
       "\n",
       "    .dataframe thead th {\n",
       "        text-align: right;\n",
       "    }\n",
       "</style>\n",
       "<table border=\"1\" class=\"dataframe\">\n",
       "  <thead>\n",
       "    <tr style=\"text-align: right;\">\n",
       "      <th></th>\n",
       "      <th>R_Value</th>\n",
       "      <th>F_Value</th>\n",
       "      <th>M_Value</th>\n",
       "    </tr>\n",
       "  </thead>\n",
       "  <tbody>\n",
       "    <tr>\n",
       "      <th>0.25</th>\n",
       "      <td>75.0</td>\n",
       "      <td>1.0</td>\n",
       "      <td>293.040008</td>\n",
       "    </tr>\n",
       "    <tr>\n",
       "      <th>0.50</th>\n",
       "      <td>159.0</td>\n",
       "      <td>7.0</td>\n",
       "      <td>1499.825033</td>\n",
       "    </tr>\n",
       "    <tr>\n",
       "      <th>0.75</th>\n",
       "      <td>307.0</td>\n",
       "      <td>15.0</td>\n",
       "      <td>2915.880065</td>\n",
       "    </tr>\n",
       "  </tbody>\n",
       "</table>\n",
       "</div>"
      ],
      "text/plain": [
       "      R_Value  F_Value      M_Value\n",
       "0.25     75.0      1.0   293.040008\n",
       "0.50    159.0      7.0  1499.825033\n",
       "0.75    307.0     15.0  2915.880065"
      ]
     },
     "execution_count": 18,
     "metadata": {},
     "output_type": "execute_result"
    }
   ],
   "source": [
    "# divide rfm to quantile\n",
    "quantiles = customer_seg.quantile(q=[0.25, 0.5, 0.75])\n",
    "quantiles"
   ]
  },
  {
   "cell_type": "code",
   "execution_count": 19,
   "metadata": {},
   "outputs": [
    {
     "data": {
      "text/plain": [
       "{'R_Value': {0.25: 75.0, 0.5: 159.0, 0.75: 307.0},\n",
       " 'F_Value': {0.25: 1.0, 0.5: 7.0, 0.75: 15.0},\n",
       " 'M_Value': {0.25: 293.0400085, 0.5: 1499.82503324, 0.75: 2915.8800654175}}"
      ]
     },
     "execution_count": 19,
     "metadata": {},
     "output_type": "execute_result"
    }
   ],
   "source": [
    "quantiles = quantiles.to_dict()\n",
    "quantiles"
   ]
  },
  {
   "cell_type": "code",
   "execution_count": 20,
   "metadata": {},
   "outputs": [],
   "source": [
    "def R_Score(a, b, c):\n",
    "    if a <= c[b][0.25]:\n",
    "        return 4\n",
    "    if a <= c[b][0.5]:\n",
    "        return 3\n",
    "    if a <= c[b][0.75]:\n",
    "        return 2\n",
    "    return 1\n",
    "\n",
    "def FM_Score(a, b, c):\n",
    "    if a <= c[b][0.25]:\n",
    "        return 1\n",
    "    if a <= c[b][0.5]:\n",
    "        return 2\n",
    "    if a <= c[b][0.75]:\n",
    "        return 3\n",
    "    return 4"
   ]
  },
  {
   "cell_type": "code",
   "execution_count": 21,
   "metadata": {},
   "outputs": [],
   "source": [
    "# change field name to R_Value, F_Value, M_Value\n",
    "customer_seg.rename(columns={'order date (DateOrders)': 'R_Value', 'Order Id': 'F_Value', 'Sales': 'M_Value'}, inplace=True)"
   ]
  },
  {
   "cell_type": "code",
   "execution_count": 22,
   "metadata": {},
   "outputs": [],
   "source": [
    "# create R_Score, R_Value -> [1, 4]\n",
    "customer_seg['R_Score'] = customer_seg['R_Value'].apply(R_Score, args=('R_Value', quantiles))\n",
    "customer_seg['F_Score'] = customer_seg['F_Value'].apply(FM_Score, args=('F_Value', quantiles))\n",
    "customer_seg['M_Score'] = customer_seg['M_Value'].apply(FM_Score, args=('M_Value', quantiles))"
   ]
  },
  {
   "cell_type": "code",
   "execution_count": 23,
   "metadata": {},
   "outputs": [
    {
     "data": {
      "text/html": [
       "<div>\n",
       "<style scoped>\n",
       "    .dataframe tbody tr th:only-of-type {\n",
       "        vertical-align: middle;\n",
       "    }\n",
       "\n",
       "    .dataframe tbody tr th {\n",
       "        vertical-align: top;\n",
       "    }\n",
       "\n",
       "    .dataframe thead th {\n",
       "        text-align: right;\n",
       "    }\n",
       "</style>\n",
       "<table border=\"1\" class=\"dataframe\">\n",
       "  <thead>\n",
       "    <tr style=\"text-align: right;\">\n",
       "      <th></th>\n",
       "      <th>R_Value</th>\n",
       "      <th>F_Value</th>\n",
       "      <th>M_Value</th>\n",
       "      <th>R_Score</th>\n",
       "      <th>F_Score</th>\n",
       "      <th>M_Score</th>\n",
       "    </tr>\n",
       "    <tr>\n",
       "      <th>Order Customer Id</th>\n",
       "      <th></th>\n",
       "      <th></th>\n",
       "      <th></th>\n",
       "      <th></th>\n",
       "      <th></th>\n",
       "      <th></th>\n",
       "    </tr>\n",
       "  </thead>\n",
       "  <tbody>\n",
       "    <tr>\n",
       "      <th>1</th>\n",
       "      <td>792</td>\n",
       "      <td>1</td>\n",
       "      <td>499.950012</td>\n",
       "      <td>1</td>\n",
       "      <td>1</td>\n",
       "      <td>2</td>\n",
       "    </tr>\n",
       "    <tr>\n",
       "      <th>2</th>\n",
       "      <td>136</td>\n",
       "      <td>10</td>\n",
       "      <td>1819.730034</td>\n",
       "      <td>3</td>\n",
       "      <td>3</td>\n",
       "      <td>3</td>\n",
       "    </tr>\n",
       "    <tr>\n",
       "      <th>3</th>\n",
       "      <td>229</td>\n",
       "      <td>18</td>\n",
       "      <td>3537.680094</td>\n",
       "      <td>2</td>\n",
       "      <td>4</td>\n",
       "      <td>4</td>\n",
       "    </tr>\n",
       "    <tr>\n",
       "      <th>4</th>\n",
       "      <td>380</td>\n",
       "      <td>14</td>\n",
       "      <td>1719.630030</td>\n",
       "      <td>1</td>\n",
       "      <td>3</td>\n",
       "      <td>3</td>\n",
       "    </tr>\n",
       "    <tr>\n",
       "      <th>5</th>\n",
       "      <td>457</td>\n",
       "      <td>7</td>\n",
       "      <td>1274.750023</td>\n",
       "      <td>1</td>\n",
       "      <td>2</td>\n",
       "      <td>2</td>\n",
       "    </tr>\n",
       "    <tr>\n",
       "      <th>...</th>\n",
       "      <td>...</td>\n",
       "      <td>...</td>\n",
       "      <td>...</td>\n",
       "      <td>...</td>\n",
       "      <td>...</td>\n",
       "      <td>...</td>\n",
       "    </tr>\n",
       "    <tr>\n",
       "      <th>20753</th>\n",
       "      <td>0</td>\n",
       "      <td>1</td>\n",
       "      <td>215.820007</td>\n",
       "      <td>4</td>\n",
       "      <td>1</td>\n",
       "      <td>1</td>\n",
       "    </tr>\n",
       "    <tr>\n",
       "      <th>20754</th>\n",
       "      <td>0</td>\n",
       "      <td>1</td>\n",
       "      <td>215.820007</td>\n",
       "      <td>4</td>\n",
       "      <td>1</td>\n",
       "      <td>1</td>\n",
       "    </tr>\n",
       "    <tr>\n",
       "      <th>20755</th>\n",
       "      <td>0</td>\n",
       "      <td>1</td>\n",
       "      <td>327.750000</td>\n",
       "      <td>4</td>\n",
       "      <td>1</td>\n",
       "      <td>2</td>\n",
       "    </tr>\n",
       "    <tr>\n",
       "      <th>20756</th>\n",
       "      <td>0</td>\n",
       "      <td>1</td>\n",
       "      <td>11.540000</td>\n",
       "      <td>4</td>\n",
       "      <td>1</td>\n",
       "      <td>1</td>\n",
       "    </tr>\n",
       "    <tr>\n",
       "      <th>20757</th>\n",
       "      <td>0</td>\n",
       "      <td>1</td>\n",
       "      <td>39.750000</td>\n",
       "      <td>4</td>\n",
       "      <td>1</td>\n",
       "      <td>1</td>\n",
       "    </tr>\n",
       "  </tbody>\n",
       "</table>\n",
       "<p>20652 rows × 6 columns</p>\n",
       "</div>"
      ],
      "text/plain": [
       "                   R_Value  F_Value      M_Value  R_Score  F_Score  M_Score\n",
       "Order Customer Id                                                          \n",
       "1                      792        1   499.950012        1        1        2\n",
       "2                      136       10  1819.730034        3        3        3\n",
       "3                      229       18  3537.680094        2        4        4\n",
       "4                      380       14  1719.630030        1        3        3\n",
       "5                      457        7  1274.750023        1        2        2\n",
       "...                    ...      ...          ...      ...      ...      ...\n",
       "20753                    0        1   215.820007        4        1        1\n",
       "20754                    0        1   215.820007        4        1        1\n",
       "20755                    0        1   327.750000        4        1        2\n",
       "20756                    0        1    11.540000        4        1        1\n",
       "20757                    0        1    39.750000        4        1        1\n",
       "\n",
       "[20652 rows x 6 columns]"
      ]
     },
     "execution_count": 23,
     "metadata": {},
     "output_type": "execute_result"
    }
   ],
   "source": [
    "customer_seg"
   ]
  },
  {
   "cell_type": "code",
   "execution_count": 24,
   "metadata": {},
   "outputs": [],
   "source": [
    "# compute rfm\n",
    "def RFM_User(df):\n",
    "    if df['M_Score'] > 2 and df['F_Score'] > 2 and df['R_Score'] > 2:\n",
    "        return '重要价值用户'\n",
    "    if df['M_Score'] > 2 and df['F_Score'] <= 2 and df['R_Score'] > 2:\n",
    "        return '重要发展用户'\n",
    "    if df['M_Score'] > 2 and df['F_Score'] > 2 and df['R_Score'] <= 2:\n",
    "        return '重要保持用户'\n",
    "    if df['M_Score'] > 2 and df['F_Score'] <= 2 and df['R_Score'] <= 2:\n",
    "        return '重要挽留用户'\n",
    "    \n",
    "    if df['M_Score'] <= 2 and df['F_Score'] > 2 and df['R_Score'] > 2:\n",
    "        return '一般价值用户'\n",
    "    if df['M_Score'] <= 2 and df['F_Score'] <= 2 and df['R_Score'] > 2:\n",
    "        return '一般发展用户'\n",
    "    if df['M_Score'] <= 2 and df['F_Score'] > 2 and df['R_Score'] <= 2:\n",
    "        return '一般保持用户'\n",
    "    if df['M_Score'] <= 2 and df['F_Score'] <= 2 and df['R_Score'] <= 2:\n",
    "        return '一般挽留用户'"
   ]
  },
  {
   "cell_type": "code",
   "execution_count": 25,
   "metadata": {},
   "outputs": [],
   "source": [
    "customer_seg['Customer_Segmentation'] = customer_seg.apply(RFM_User, axis=1)"
   ]
  },
  {
   "cell_type": "code",
   "execution_count": 26,
   "metadata": {},
   "outputs": [
    {
     "data": {
      "text/html": [
       "<div>\n",
       "<style scoped>\n",
       "    .dataframe tbody tr th:only-of-type {\n",
       "        vertical-align: middle;\n",
       "    }\n",
       "\n",
       "    .dataframe tbody tr th {\n",
       "        vertical-align: top;\n",
       "    }\n",
       "\n",
       "    .dataframe thead th {\n",
       "        text-align: right;\n",
       "    }\n",
       "</style>\n",
       "<table border=\"1\" class=\"dataframe\">\n",
       "  <thead>\n",
       "    <tr style=\"text-align: right;\">\n",
       "      <th></th>\n",
       "      <th>R_Value</th>\n",
       "      <th>F_Value</th>\n",
       "      <th>M_Value</th>\n",
       "      <th>R_Score</th>\n",
       "      <th>F_Score</th>\n",
       "      <th>M_Score</th>\n",
       "      <th>Customer_Segmentation</th>\n",
       "    </tr>\n",
       "    <tr>\n",
       "      <th>Order Customer Id</th>\n",
       "      <th></th>\n",
       "      <th></th>\n",
       "      <th></th>\n",
       "      <th></th>\n",
       "      <th></th>\n",
       "      <th></th>\n",
       "      <th></th>\n",
       "    </tr>\n",
       "  </thead>\n",
       "  <tbody>\n",
       "    <tr>\n",
       "      <th>1</th>\n",
       "      <td>792</td>\n",
       "      <td>1</td>\n",
       "      <td>499.950012</td>\n",
       "      <td>1</td>\n",
       "      <td>1</td>\n",
       "      <td>2</td>\n",
       "      <td>一般挽留用户</td>\n",
       "    </tr>\n",
       "    <tr>\n",
       "      <th>2</th>\n",
       "      <td>136</td>\n",
       "      <td>10</td>\n",
       "      <td>1819.730034</td>\n",
       "      <td>3</td>\n",
       "      <td>3</td>\n",
       "      <td>3</td>\n",
       "      <td>重要价值用户</td>\n",
       "    </tr>\n",
       "    <tr>\n",
       "      <th>3</th>\n",
       "      <td>229</td>\n",
       "      <td>18</td>\n",
       "      <td>3537.680094</td>\n",
       "      <td>2</td>\n",
       "      <td>4</td>\n",
       "      <td>4</td>\n",
       "      <td>重要保持用户</td>\n",
       "    </tr>\n",
       "    <tr>\n",
       "      <th>4</th>\n",
       "      <td>380</td>\n",
       "      <td>14</td>\n",
       "      <td>1719.630030</td>\n",
       "      <td>1</td>\n",
       "      <td>3</td>\n",
       "      <td>3</td>\n",
       "      <td>重要保持用户</td>\n",
       "    </tr>\n",
       "    <tr>\n",
       "      <th>5</th>\n",
       "      <td>457</td>\n",
       "      <td>7</td>\n",
       "      <td>1274.750023</td>\n",
       "      <td>1</td>\n",
       "      <td>2</td>\n",
       "      <td>2</td>\n",
       "      <td>一般挽留用户</td>\n",
       "    </tr>\n",
       "    <tr>\n",
       "      <th>...</th>\n",
       "      <td>...</td>\n",
       "      <td>...</td>\n",
       "      <td>...</td>\n",
       "      <td>...</td>\n",
       "      <td>...</td>\n",
       "      <td>...</td>\n",
       "      <td>...</td>\n",
       "    </tr>\n",
       "    <tr>\n",
       "      <th>20753</th>\n",
       "      <td>0</td>\n",
       "      <td>1</td>\n",
       "      <td>215.820007</td>\n",
       "      <td>4</td>\n",
       "      <td>1</td>\n",
       "      <td>1</td>\n",
       "      <td>一般发展用户</td>\n",
       "    </tr>\n",
       "    <tr>\n",
       "      <th>20754</th>\n",
       "      <td>0</td>\n",
       "      <td>1</td>\n",
       "      <td>215.820007</td>\n",
       "      <td>4</td>\n",
       "      <td>1</td>\n",
       "      <td>1</td>\n",
       "      <td>一般发展用户</td>\n",
       "    </tr>\n",
       "    <tr>\n",
       "      <th>20755</th>\n",
       "      <td>0</td>\n",
       "      <td>1</td>\n",
       "      <td>327.750000</td>\n",
       "      <td>4</td>\n",
       "      <td>1</td>\n",
       "      <td>2</td>\n",
       "      <td>一般发展用户</td>\n",
       "    </tr>\n",
       "    <tr>\n",
       "      <th>20756</th>\n",
       "      <td>0</td>\n",
       "      <td>1</td>\n",
       "      <td>11.540000</td>\n",
       "      <td>4</td>\n",
       "      <td>1</td>\n",
       "      <td>1</td>\n",
       "      <td>一般发展用户</td>\n",
       "    </tr>\n",
       "    <tr>\n",
       "      <th>20757</th>\n",
       "      <td>0</td>\n",
       "      <td>1</td>\n",
       "      <td>39.750000</td>\n",
       "      <td>4</td>\n",
       "      <td>1</td>\n",
       "      <td>1</td>\n",
       "      <td>一般发展用户</td>\n",
       "    </tr>\n",
       "  </tbody>\n",
       "</table>\n",
       "<p>20652 rows × 7 columns</p>\n",
       "</div>"
      ],
      "text/plain": [
       "                   R_Value  F_Value      M_Value  R_Score  F_Score  M_Score  \\\n",
       "Order Customer Id                                                             \n",
       "1                      792        1   499.950012        1        1        2   \n",
       "2                      136       10  1819.730034        3        3        3   \n",
       "3                      229       18  3537.680094        2        4        4   \n",
       "4                      380       14  1719.630030        1        3        3   \n",
       "5                      457        7  1274.750023        1        2        2   \n",
       "...                    ...      ...          ...      ...      ...      ...   \n",
       "20753                    0        1   215.820007        4        1        1   \n",
       "20754                    0        1   215.820007        4        1        1   \n",
       "20755                    0        1   327.750000        4        1        2   \n",
       "20756                    0        1    11.540000        4        1        1   \n",
       "20757                    0        1    39.750000        4        1        1   \n",
       "\n",
       "                  Customer_Segmentation  \n",
       "Order Customer Id                        \n",
       "1                                一般挽留用户  \n",
       "2                                重要价值用户  \n",
       "3                                重要保持用户  \n",
       "4                                重要保持用户  \n",
       "5                                一般挽留用户  \n",
       "...                                 ...  \n",
       "20753                            一般发展用户  \n",
       "20754                            一般发展用户  \n",
       "20755                            一般发展用户  \n",
       "20756                            一般发展用户  \n",
       "20757                            一般发展用户  \n",
       "\n",
       "[20652 rows x 7 columns]"
      ]
     },
     "execution_count": 26,
     "metadata": {},
     "output_type": "execute_result"
    }
   ],
   "source": [
    "customer_seg"
   ]
  },
  {
   "cell_type": "code",
   "execution_count": 27,
   "metadata": {},
   "outputs": [
    {
     "data": {
      "text/plain": [
       "DEBIT       69295\n",
       "TRANSFER    49883\n",
       "PAYMENT     41725\n",
       "CASH        19616\n",
       "Name: Type, dtype: int64"
      ]
     },
     "execution_count": 27,
     "metadata": {},
     "output_type": "execute_result"
    }
   ],
   "source": [
    "data['Type'].value_counts()"
   ]
  },
  {
   "cell_type": "code",
   "execution_count": 28,
   "metadata": {},
   "outputs": [],
   "source": [
    "pay_type1 = data[data['Type'] == 'DEBIT']\n",
    "pay_type2 = data[data['Type'] == 'TRANSFER']\n",
    "pay_type3 = data[data['Type'] == 'PAYMENT']\n",
    "pay_type4 = data[data['Type'] == 'CASH']\n"
   ]
  },
  {
   "cell_type": "code",
   "execution_count": 29,
   "metadata": {},
   "outputs": [],
   "source": [
    "count1 = pay_type1['Order Region'].value_counts()\n",
    "count2 = pay_type2['Order Region'].value_counts()\n",
    "count3 = pay_type3['Order Region'].value_counts()\n",
    "count4 = pay_type4['Order Region'].value_counts()\n",
    "\n",
    "region_num = len(count1)"
   ]
  },
  {
   "cell_type": "code",
   "execution_count": 30,
   "metadata": {},
   "outputs": [
    {
     "data": {
      "text/plain": [
       "([<matplotlib.axis.XTick at 0x7f8ed57976d0>,\n",
       "  <matplotlib.axis.XTick at 0x7f8ed9462d50>,\n",
       "  <matplotlib.axis.XTick at 0x7f8ed9462a50>,\n",
       "  <matplotlib.axis.XTick at 0x7f8ed9503ad0>,\n",
       "  <matplotlib.axis.XTick at 0x7f8ed9503b50>,\n",
       "  <matplotlib.axis.XTick at 0x7f8ed9505590>,\n",
       "  <matplotlib.axis.XTick at 0x7f8ed9505b50>,\n",
       "  <matplotlib.axis.XTick at 0x7f8ed9505190>,\n",
       "  <matplotlib.axis.XTick at 0x7f8ed94fc810>,\n",
       "  <matplotlib.axis.XTick at 0x7f8ed94fc650>,\n",
       "  <matplotlib.axis.XTick at 0x7f8ed94fa0d0>,\n",
       "  <matplotlib.axis.XTick at 0x7f8ed94fa710>,\n",
       "  <matplotlib.axis.XTick at 0x7f8ed94fac90>,\n",
       "  <matplotlib.axis.XTick at 0x7f8ed94fa7d0>,\n",
       "  <matplotlib.axis.XTick at 0x7f8ed94fc6d0>,\n",
       "  <matplotlib.axis.XTick at 0x7f8ed9505f90>,\n",
       "  <matplotlib.axis.XTick at 0x7f8ed94dda10>,\n",
       "  <matplotlib.axis.XTick at 0x7f8ed94dd410>,\n",
       "  <matplotlib.axis.XTick at 0x7f8ed94e9dd0>,\n",
       "  <matplotlib.axis.XTick at 0x7f8ed94e98d0>,\n",
       "  <matplotlib.axis.XTick at 0x7f8ed94e9310>,\n",
       "  <matplotlib.axis.XTick at 0x7f8ed519f350>,\n",
       "  <matplotlib.axis.XTick at 0x7f8ed519ff90>],\n",
       " <a list of 23 Text xticklabel objects>)"
      ]
     },
     "execution_count": 30,
     "metadata": {},
     "output_type": "execute_result"
    },
    {
     "data": {
      "image/png": "[encoded data removed]",
      "text/plain": [
       "<Figure size 1440x576 with 1 Axes>"
      ]
     },
     "metadata": {
      "needs_background": "light"
     },
     "output_type": "display_data"
    }
   ],
   "source": [
    "fig, ax = plt.subplots(figsize=(20, 8))\n",
    "index = np.arange(region_num)\n",
    "bar_width = 0.2\n",
    "type1 = plt.bar(index, count1, bar_width, color='b', label='DEBIT')\n",
    "type2 = plt.bar(index + bar_width, count2, bar_width, color='r', label='TRANSFER')\n",
    "type3 = plt.bar(index + bar_width*2, count3, bar_width, color='g', label='PAYMENT')\n",
    "type4 = plt.bar(index + bar_width*3, count4, bar_width, color='y', label='CASH')\n",
    "plt.xlabel('Order Region')\n",
    "plt.ylabel('Number of payments')\n",
    "plt.title('Type of payments in all regions')\n",
    "plt.legend()\n",
    "names = data['Order Region'].value_counts().keys()\n",
    "plt.xticks(index+bar_width, names, rotation='vertical')"
   ]
  },
  {
   "cell_type": "code",
   "execution_count": 31,
   "metadata": {},
   "outputs": [
    {
     "data": {
      "text/plain": [
       "<matplotlib.axes._subplots.AxesSubplot at 0x7f8ed8c916d0>"
      ]
     },
     "execution_count": 31,
     "metadata": {},
     "output_type": "execute_result"
    },
    {
     "data": {
      "image/png": "[encoded data removed]",
      "text/plain": [
       "<Figure size 1440x576 with 1 Axes>"
      ]
     },
     "metadata": {
      "needs_background": "light"
     },
     "output_type": "display_data"
    }
   ],
   "source": [
    "loss = data[data['Benefit per order'] < 0]\n",
    "\n",
    "loss['Category Name'].value_counts().nlargest(10).plot.bar(figsize=(20,8), title='Products with most loss')"
   ]
  },
  {
   "cell_type": "code",
   "execution_count": 32,
   "metadata": {},
   "outputs": [
    {
     "data": {
      "text/plain": [
       "<matplotlib.axes._subplots.AxesSubplot at 0x7f8ed8c65c50>"
      ]
     },
     "execution_count": 32,
     "metadata": {},
     "output_type": "execute_result"
    },
    {
     "data": {
      "image/png": "[encoded data removed]",
      "text/plain": [
       "<Figure size 1440x576 with 1 Axes>"
      ]
     },
     "metadata": {
      "needs_background": "light"
     },
     "output_type": "display_data"
    }
   ],
   "source": [
    "loss['Order Region'].value_counts().nlargest(10).plot.bar(figsize=(20,8), title='Regions with most loss')"
   ]
  },
  {
   "cell_type": "code",
   "execution_count": 33,
   "metadata": {},
   "outputs": [
    {
     "name": "stdout",
     "output_type": "stream",
     "text": [
      "总损失 -3883547.345768667\n"
     ]
    }
   ],
   "source": [
    "print('总损失', loss['Benefit per order'].sum())"
   ]
  },
  {
   "cell_type": "code",
   "execution_count": 34,
   "metadata": {},
   "outputs": [
    {
     "data": {
      "text/plain": [
       "COMPLETE           59491\n",
       "PENDING_PAYMENT    39832\n",
       "PROCESSING         21902\n",
       "PENDING            20227\n",
       "CLOSED             19616\n",
       "ON_HOLD             9804\n",
       "SUSPECTED_FRAUD     4062\n",
       "CANCELED            3692\n",
       "PAYMENT_REVIEW      1893\n",
       "Name: Order Status, dtype: int64"
      ]
     },
     "execution_count": 34,
     "metadata": {},
     "output_type": "execute_result"
    }
   ],
   "source": [
    "data['Order Status'].value_counts()"
   ]
  },
  {
   "cell_type": "code",
   "execution_count": 35,
   "metadata": {},
   "outputs": [
    {
     "data": {
      "text/plain": [
       "TRANSFER    4062\n",
       "Name: Type, dtype: int64"
      ]
     },
     "execution_count": 35,
     "metadata": {},
     "output_type": "execute_result"
    }
   ],
   "source": [
    "# 负收益，可能是欺诈交易，来自于那种交付方式\n",
    "data[data['Order Status'] == 'SUSPECTED_FRAUD']['Type'].value_counts()"
   ]
  },
  {
   "cell_type": "code",
   "execution_count": 36,
   "metadata": {},
   "outputs": [
    {
     "data": {
      "image/png": "[encoded data removed]",
      "text/plain": [
       "<Figure size 1440x576 with 1 Axes>"
      ]
     },
     "metadata": {
      "needs_background": "light"
     },
     "output_type": "display_data"
    }
   ],
   "source": [
    "high_fraud = data[data['Order Status'] == 'SUSPECTED_FRAUD']\n",
    "high_fraud['Order Region'].value_counts().plot.bar(figsize=(20, 8))\n",
    "plt.title('Regions with Highest Fraud')\n",
    "plt.ylabel('Fraud Number')\n",
    "plt.show()"
   ]
  },
  {
   "cell_type": "code",
   "execution_count": 37,
   "metadata": {},
   "outputs": [
    {
     "data": {
      "image/png": "[encoded data removed]",
      "text/plain": [
       "<Figure size 1440x576 with 1 Axes>"
      ]
     },
     "metadata": {
      "needs_background": "light"
     },
     "output_type": "display_data"
    }
   ],
   "source": [
    "# Western Europe 地区欺诈交易最多，将一个bar分成两个部分\n",
    "high_fraud_total = data[data['Order Status'] == 'SUSPECTED_FRAUD']\n",
    "high_fraud_we = data[(data['Order Status'] == 'SUSPECTED_FRAUD') & (data['Order Region'] == 'Western Europe')]\n",
    "\n",
    "fraud1 = high_fraud_total['Category Name'].value_counts().nlargest(10).plot.bar(figsize=(20,8), title='Fraud Category', color='orange')\n",
    "fraud2 = high_fraud_we['Category Name'].value_counts().nlargest(10).plot.bar(figsize=(20,8), title='Fraud Category in Western Europe', color='g')\n",
    "plt.title('Top10 Categories with highest fraud')\n",
    "plt.xlabel('Products')\n",
    "plt.show()"
   ]
  },
  {
   "cell_type": "code",
   "execution_count": 38,
   "metadata": {},
   "outputs": [
    {
     "data": {
      "text/plain": [
       "<matplotlib.axes._subplots.AxesSubplot at 0x7f8ed55ae250>"
      ]
     },
     "execution_count": 38,
     "metadata": {},
     "output_type": "execute_result"
    },
    {
     "data": {
      "image/png": "[encoded data removed]",
      "text/plain": [
       "<Figure size 1440x576 with 1 Axes>"
      ]
     },
     "metadata": {
      "needs_background": "light"
     },
     "output_type": "display_data"
    }
   ],
   "source": [
    "# 筛选出 Top10 Customer(风险)\n",
    "cus = data[data['Order Status'] == 'SUSPECTED_FRAUD']\n",
    "cus['Customer Full Name'].value_counts().nlargest(10).plot.bar(figsize=(20, 8), title = 'Top 10 Highest Fraud Customers')"
   ]
  },
  {
   "cell_type": "code",
   "execution_count": 39,
   "metadata": {},
   "outputs": [
    {
     "name": "stdout",
     "output_type": "stream",
     "text": [
      "4771645.883297398\n",
      "102491.66191043999\n"
     ]
    }
   ],
   "source": [
    "print(data[data['Customer Full Name'] == 'MarySmith']['Sales'].sum())\n",
    "print(data[(data['Customer Full Name'] == 'MarySmith') & (data['Order Status'] == 'SUSPECTED_FRAUD')]['Sales'].sum())"
   ]
  },
  {
   "cell_type": "code",
   "execution_count": 40,
   "metadata": {},
   "outputs": [],
   "source": [
    "import pickle\n",
    "with open('data.pkl', 'wb') as file:\n",
    "    pickle.dump(data, file)"
   ]
  },
  {
   "cell_type": "code",
   "execution_count": null,
   "metadata": {},
   "outputs": [],
   "source": []
  }
 ],
 "metadata": {
  "kernelspec": {
   "display_name": "Python 3",
   "language": "python",
   "name": "python3"
  },
  "language_info": {
   "codemirror_mode": {
    "name": "ipython",
    "version": 3
   },
   "file_extension": ".py",
   "mimetype": "text/x-python",
   "name": "python",
   "nbconvert_exporter": "python",
   "pygments_lexer": "ipython3",
   "version": "3.7.6"
  }
 },
 "nbformat": 4,
 "nbformat_minor": 4
}
