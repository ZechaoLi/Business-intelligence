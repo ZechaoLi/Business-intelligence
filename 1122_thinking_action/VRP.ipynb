{
 "cells": [
  {
   "cell_type": "code",
   "execution_count": 1,
   "metadata": {},
   "outputs": [],
   "source": [
    "import pandas as pd\n",
    "import numpy as np\n",
    "from ortools.constraint_solver import routing_enums_pb2\n",
    "from ortools.constraint_solver import pywrapcp"
   ]
  },
  {
   "cell_type": "code",
   "execution_count": 18,
   "metadata": {},
   "outputs": [],
   "source": [
    "class tsp(object):\n",
    "    def __init__(self, city_names=None, num_vehicles=1):\n",
    "        # set city name\n",
    "        self.df = pd.read_excel('cities.xlsx')\n",
    "        self.all_city = self.df['name'].values\n",
    "        self.num_vehicles = num_vehicles\n",
    "        \n",
    "        if city_names is not None:\n",
    "            self.city_names = city_names\n",
    "            self.df = self.df[self.df['name'].isin(city_names)]\n",
    "        else:\n",
    "            self.city_names = self.all_city\n",
    "            \n",
    "    def create_data_model(self):\n",
    "        data = {}\n",
    "        temp_df = pd.read_excel('distance.xlsx', index_col=0)\n",
    "        temp_df = temp_df[(temp_df.index.isin(self.city_names))][self.city_names]\n",
    "        data['distance_matrix'] = temp_df.values / 1000\n",
    "        data['num_vehicles'] = self.num_vehicles\n",
    "        data['depot'] = 0\n",
    "        return data\n",
    "    \n",
    "    \n",
    "    def get_solution(self, manager, routing, solution):\n",
    "        distance_list = []\n",
    "        route_list = []\n",
    "        \n",
    "        for vehicle_id in range(self.num_vehicles):\n",
    "            # initialize distance = 0\n",
    "            route_distance = 0\n",
    "            route = []\n",
    "            index = routing.Start(vehicle_id)\n",
    "            \n",
    "            while not routing.IsEnd(index):\n",
    "                index_show = manager.IndexToNode(index)\n",
    "                route.append(index_show)\n",
    "                \n",
    "                previous_index = index\n",
    "                # go to next point\n",
    "                index = solution.Value(routing.NextVar(index))\n",
    "                route_distance += routing.GetArcCostForVehicle(previous_index, index, 0)\n",
    "            route_list.append(route)\n",
    "            distance_list.append(route_distance)\n",
    "        return route_list, distance_list\n",
    "    \n",
    "    # add distance constrain\n",
    "    def add_distance_dimension(self, routing, transit_callback_index):\n",
    "        dimension_name = 'Distance'\n",
    "        routing.AddDimension(\n",
    "            transit_callback_index,\n",
    "            0,\n",
    "            10000,\n",
    "            True,\n",
    "            dimension_name)\n",
    "        distance_dimension = routing.GetDimensionOrDie(dimension_name)\n",
    "        distance_dimension.SetGlobalSpanCostCoefficient(100)\n",
    "    \n",
    "    def work(self):\n",
    "        # 初始化数据\n",
    "        data = self.create_data_model()\n",
    "\n",
    "        # 创建路线管理，tsp_size（城市数量）, num_vehicles（车的数量）, depot（原点）\n",
    "        manager = pywrapcp.RoutingIndexManager(len(data['distance_matrix']),\n",
    "                                               data['num_vehicles'], data['depot'])\n",
    "\n",
    "        # 创建 Routing Model.\n",
    "        routing = pywrapcp.RoutingModel(manager)\n",
    "\n",
    "        # 计算两点之间的距离\n",
    "        def distance_callback(from_index, to_index):\n",
    "            # Convert from routing variable Index to distance matrix NodeIndex.\n",
    "            from_node = manager.IndexToNode(from_index)\n",
    "            to_node = manager.IndexToNode(to_index)\n",
    "            return data['distance_matrix'][from_node][to_node]\n",
    "\n",
    "        transit_callback_index = routing.RegisterTransitCallback(distance_callback)\n",
    "\n",
    "        # Define cost of each arc.\n",
    "        routing.SetArcCostEvaluatorOfAllVehicles(transit_callback_index)\n",
    "\n",
    "        # add distance dimension\n",
    "        self.add_distance_dimension(routing, transit_callback_index)\n",
    "        \n",
    "        # Setting first solution heuristic.\n",
    "        search_parameters = pywrapcp.DefaultRoutingSearchParameters()\n",
    "        search_parameters.first_solution_strategy = (\n",
    "            routing_enums_pb2.FirstSolutionStrategy.PATH_CHEAPEST_ARC)\n",
    "\n",
    "        # 求解路径规划\n",
    "        solution = routing.SolveWithParameters(search_parameters)\n",
    "        # 输出结果\n",
    "        route, route_distance = self.get_solution(manager, routing, solution)\n",
    "        return route, route_distance"
   ]
  },
  {
   "cell_type": "code",
   "execution_count": 20,
   "metadata": {},
   "outputs": [
    {
     "name": "stdout",
     "output_type": "stream",
     "text": [
      "[[0, 7, 18, 19, 17, 22, 6], [0, 21], [0, 5, 20, 23, 24, 26, 27, 25, 12, 32, 11, 31, 30, 13, 16], [0, 14, 28, 29, 10, 9, 8, 15, 1, 4, 2, 3]]\n",
      "[6341, 7096, 6749, 6845]\n"
     ]
    }
   ],
   "source": [
    "if __name__ == '__main__':\n",
    "    model = tsp(num_vehicles=4)\n",
    "    data = model.create_data_model()\n",
    "\n",
    "    route, route_distance = model.work()\n",
    "    print(route)\n",
    "    print(route_distance)"
   ]
  },
  {
   "cell_type": "code",
   "execution_count": null,
   "metadata": {},
   "outputs": [],
   "source": []
  }
 ],
 "metadata": {
  "kernelspec": {
   "display_name": "Python 3",
   "language": "python",
   "name": "python3"
  },
  "language_info": {
   "codemirror_mode": {
    "name": "ipython",
    "version": 3
   },
   "file_extension": ".py",
   "mimetype": "text/x-python",
   "name": "python",
   "nbconvert_exporter": "python",
   "pygments_lexer": "ipython3",
   "version": "3.7.6"
  }
 },
 "nbformat": 4,
 "nbformat_minor": 4
}
