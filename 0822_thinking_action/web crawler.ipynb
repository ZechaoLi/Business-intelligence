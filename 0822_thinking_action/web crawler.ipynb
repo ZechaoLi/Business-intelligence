{
 "cells": [
  {
   "cell_type": "markdown",
   "metadata": {},
   "source": [
    "# 汽车投诉信息采集：\n",
    "数据源：http://www.12365auto.com/zlts/0-0-0-0-0-0_0-0-1.shtml\n",
    "投诉编号，投诉品牌，投诉车系，投诉车型，问题简述，典型问题，投诉时间，投诉状态\n"
   ]
  },
  {
   "cell_type": "code",
   "execution_count": 8,
   "metadata": {},
   "outputs": [],
   "source": [
    "import requests\n",
    "from bs4 import BeautifulSoup\n",
    "import pandas as pd"
   ]
  },
  {
   "cell_type": "code",
   "execution_count": 14,
   "metadata": {},
   "outputs": [],
   "source": [
    "\n",
    "def get_page_content(request_url):\n",
    "    header = {'user-agent': \"Mozilla/5.0 (Linux; Android 6.0; Nexus 5 Build/MRA58N) AppleWebKit/537.36 (KHTML, like Gecko) Chrome/84.0.4147.135 Mobile Safari/537.36\"}\n",
    "    html = requests.get(request_url, headers = header, timeout = 10)\n",
    "    content = html.text \n",
    "    \n",
    "    soup = BeautifulSoup(content, 'html.parser', from_encoding='utf-8')\n",
    "    return soup\n",
    "    "
   ]
  },
  {
   "cell_type": "code",
   "execution_count": 42,
   "metadata": {},
   "outputs": [],
   "source": [
    "def analysis_soup(soup):\n",
    "    temp = soup.find('div', class_ = 'tslb_b')\n",
    "    column_list = ['id', 'brand', 'car_model', 'type', 'desc', 'problem', 'datetime', 'status']\n",
    "    df = pd.DataFrame(columns = column_list)\n",
    "    tr_list = temp.find_all('tr')\n",
    "    for tr in tr_list:\n",
    "        td_list = tr.find_all('td')\n",
    "        if len(td_list) > 0:\n",
    "            #car_id, brand, car_model, car_type, car_desc, car_problem, car_datetime, car_status = [x.text for x in td_list]\n",
    "            car_info_list = [x.text for x in td_list]\n",
    "            temp = {}\n",
    "            for i in range(len(column_list)):\n",
    "                temp[column_list[i]] = car_info_list[i]\n",
    "            df = df.append(temp, ignore_index=True)\n",
    "    return df\n",
    "                "
   ]
  },
  {
   "cell_type": "code",
   "execution_count": 43,
   "metadata": {},
   "outputs": [
    {
     "name": "stderr",
     "output_type": "stream",
     "text": [
      "/Users/zechaoli/anaconda3/lib/python3.6/site-packages/bs4/__init__.py:146: UserWarning: You provided Unicode markup but also provided a value for from_encoding. Your from_encoding will be ignored.\n",
      "  warnings.warn(\"You provided Unicode markup but also provided a value for from_encoding. Your from_encoding will be ignored.\")\n"
     ]
    }
   ],
   "source": [
    "page_num = 20\n",
    "base_url = 'http://www.12365auto.com/zlts/0-0-0-0-0-0_0-0-0-0-0-0-0-'\n",
    "\n",
    "result = pd.DataFrame(columns = ['id', 'brand', 'car_model', 'type', 'desc', 'problem', 'datetime', 'status'])\n",
    "for i in range(page_num):\n",
    "    request_url = base_url+str(i+1)+'.shtml'\n",
    "    soup = get_page_content(request_url)\n",
    "    df = analysis_soup(soup)\n",
    "    result = result.append(df)\n",
    "\n",
    "result.to_csv('car_complain.csv', index=False)"
   ]
  },
  {
   "cell_type": "code",
   "execution_count": null,
   "metadata": {},
   "outputs": [],
   "source": []
  }
 ],
 "metadata": {
  "kernelspec": {
   "display_name": "Python 3",
   "language": "python",
   "name": "python3"
  },
  "language_info": {
   "codemirror_mode": {
    "name": "ipython",
    "version": 3
   },
   "file_extension": ".py",
   "mimetype": "text/x-python",
   "name": "python",
   "nbconvert_exporter": "python",
   "pygments_lexer": "ipython3",
   "version": "3.6.4"
  }
 },
 "nbformat": 4,
 "nbformat_minor": 2
}
